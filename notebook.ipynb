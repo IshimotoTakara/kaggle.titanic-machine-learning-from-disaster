{
  "nbformat": 4,
  "nbformat_minor": 0,
  "metadata": {
    "kernelspec": {
      "display_name": "Python 3",
      "language": "python",
      "name": "python3"
    },
    "language_info": {
      "codemirror_mode": {
        "name": "ipython",
        "version": 3
      },
      "file_extension": ".py",
      "mimetype": "text/x-python",
      "name": "python",
      "nbconvert_exporter": "python",
      "pygments_lexer": "ipython3",
      "version": "3.7.3"
    },
    "toc": {
      "base_numbering": 1,
      "nav_menu": {},
      "number_sections": true,
      "sideBar": true,
      "skip_h1_title": false,
      "title_cell": "Table of Contents",
      "title_sidebar": "Contents",
      "toc_cell": false,
      "toc_position": {
        "height": "calc(100% - 180px)",
        "left": "10px",
        "top": "150px",
        "width": "240.797px"
      },
      "toc_section_display": true,
      "toc_window_display": true
    },
    "colab": {
      "name": "notebook.ipynb",
      "provenance": [],
      "toc_visible": true,
      "include_colab_link": true
    }
  },
  "cells": [
    {
      "cell_type": "markdown",
      "metadata": {
        "id": "view-in-github",
        "colab_type": "text"
      },
      "source": [
        "<a href=\"https://colab.research.google.com/github/IshimotoTakara/titanic-machine-learning-from-disaster/blob/main/notebook.ipynb\" target=\"_parent\"><img src=\"https://colab.research.google.com/assets/colab-badge.svg\" alt=\"Open In Colab\"/></a>"
      ]
    },
    {
      "cell_type": "markdown",
      "metadata": {
        "id": "Nry5yao69Ixb"
      },
      "source": [
        "# Titanic - Machine Learning from Disaster\n",
        "\n",
        "## データサイエンスの7ステップ\n",
        "\n",
        "1. 目的・課題の特定\n",
        "2. データの取得・収集\n",
        "3. データ理解・データの可視化\n",
        "4. データの加工・前処理\n",
        "5. 機械学習モデルの作成\n",
        "6. 評価・テスト\n",
        "7. レポーティング or アプリケーション化\n"
      ]
    },
    {
      "cell_type": "markdown",
      "metadata": {
        "id": "F6CHCBei9Ixg"
      },
      "source": [
        "# データの取得・収集\n",
        "\n",
        "今回使っていくデータは、Kaggleからダウンロードした**タイタニック号のデータ**です。\n",
        "\n",
        "https://www.kaggle.com/c/titanic\n",
        "\n",
        "\n",
        "\n",
        "\n",
        "Google Colabでデータを読み込むためには、まず**Google Driveをマウントする必要があります。**\n",
        "\n",
        "\n",
        "\n",
        "Google Driveをマウントするには、以下のコードを実行します。コードを実行すると、URLと入力ボックスが出現するはずです。\n",
        "\n",
        "Google Driveの認証を済ませるには、上記のURLにアクセスして認証コードをコピーします。\n",
        "その後、認証コードを入力ボックスにペーストすれば、Google Driveのマウントが完了です。"
      ]
    },
    {
      "cell_type": "code",
      "metadata": {
        "colab": {
          "base_uri": "https://localhost:8080/"
        },
        "id": "_51SboYR9Ixh",
        "outputId": "72cd2405-af54-49fb-87df-693bc6a2739b"
      },
      "source": [
        "from google.colab import drive\n",
        "drive.mount('/content/drive')"
      ],
      "execution_count": 1,
      "outputs": [
        {
          "output_type": "stream",
          "text": [
            "Mounted at /content/drive\n"
          ],
          "name": "stdout"
        }
      ]
    },
    {
      "cell_type": "markdown",
      "metadata": {
        "id": "aZP4pIvu9Ixi"
      },
      "source": [
        "\n",
        "# データ理解・データの可視化\n",
        "\n",
        "まずはじめに、タイタニック号のデータを理解することから始めます。\n",
        "\n",
        "- どんなデータが入っているんだろう？\n",
        "- このデータには、どんな特徴があるんだろう？\n",
        "- 欠けているデータはあるのかな？\n",
        "\n",
        "\n",
        "というわけで、まずはライブラリのインポートと、ファイルの読み込みから始めていきましょう。"
      ]
    },
    {
      "cell_type": "markdown",
      "metadata": {
        "id": "RJVrSPHK9Ixj"
      },
      "source": [
        "## ライブラリのインポート\n",
        "\n",
        "今回使うライブラリをインポートします。\n"
      ]
    },
    {
      "cell_type": "code",
      "metadata": {
        "id": "mvgnQVi-9Ixj"
      },
      "source": [
        "# ライブラリのインポート\n",
        "import numpy as np\n",
        "import pandas as pd\n",
        "\n",
        "import matplotlib.pyplot as plt\n",
        "import seaborn as sns\n",
        "sns.set()\n",
        "\n",
        "%matplotlib inline"
      ],
      "execution_count": 2,
      "outputs": []
    },
    {
      "cell_type": "markdown",
      "metadata": {
        "id": "H2P8U0TQ9Ixj"
      },
      "source": [
        "\n",
        "これらのライブラリはデータ分析するとき、ほぼマストで必要になります。\n",
        "\n",
        "<br>\n",
        "\n",
        "各ライブラリの特徴は、以下のとおりです。\n",
        "\n",
        "- numpy : 行列計算や数値を扱いやすくするライブラリ。pandasと合わせて使うことが多いです。\n",
        "- pandas : データを扱いやすくするライブラリ。かなり重要です。\n",
        "- matplotlib : グラフを作成するためのライブラリ。\n",
        "- seaborn : グラフをキレイかつ簡潔に書くためのライブラリ。\n"
      ]
    },
    {
      "cell_type": "markdown",
      "metadata": {
        "id": "2ac1KR079Ixj"
      },
      "source": [
        "## データの読み込み"
      ]
    },
    {
      "cell_type": "code",
      "metadata": {
        "id": "hjteBArE9Ixk"
      },
      "source": [
        "# local\n",
        "# dir_path = './titanic/'\n",
        "\n",
        "dir_path = '/content/drive/MyDrive/DataScience/titanic-machine-learning-from-disaster/data/input/' # google colab\n",
        "\n",
        "# 学習データの読み込み\n",
        "train_df = pd.read_csv(dir_path + 'train.csv')\n",
        "\n",
        "# テストデータの読み込み\n",
        "test_df = pd.read_csv(dir_path + 'test.csv')\n"
      ],
      "execution_count": 9,
      "outputs": []
    },
    {
      "cell_type": "markdown",
      "metadata": {
        "id": "UDDpK6G-9Ixk"
      },
      "source": [
        "\n",
        "\n",
        "この`pd.read_csv`を使うことで、表形式でデータの読み込みができます。(=表形式のことを、データフレームと言います。)"
      ]
    },
    {
      "cell_type": "markdown",
      "metadata": {
        "id": "Lsli7jbz9Ixk"
      },
      "source": [
        "## どんなデータが入っているんだろう？\n",
        "\n"
      ]
    },
    {
      "cell_type": "code",
      "metadata": {
        "colab": {
          "base_uri": "https://localhost:8080/",
          "height": 204
        },
        "id": "qT8-_q9R9Ixl",
        "outputId": "2cdbeec8-a58c-4d5f-c4f7-21c74d77b609"
      },
      "source": [
        "# 学習データの先頭5行を確認してみる\n",
        "train_df.head()"
      ],
      "execution_count": 10,
      "outputs": [
        {
          "output_type": "execute_result",
          "data": {
            "text/html": [
              "<div>\n",
              "<style scoped>\n",
              "    .dataframe tbody tr th:only-of-type {\n",
              "        vertical-align: middle;\n",
              "    }\n",
              "\n",
              "    .dataframe tbody tr th {\n",
              "        vertical-align: top;\n",
              "    }\n",
              "\n",
              "    .dataframe thead th {\n",
              "        text-align: right;\n",
              "    }\n",
              "</style>\n",
              "<table border=\"1\" class=\"dataframe\">\n",
              "  <thead>\n",
              "    <tr style=\"text-align: right;\">\n",
              "      <th></th>\n",
              "      <th>PassengerId</th>\n",
              "      <th>Survived</th>\n",
              "      <th>Pclass</th>\n",
              "      <th>Name</th>\n",
              "      <th>Sex</th>\n",
              "      <th>Age</th>\n",
              "      <th>SibSp</th>\n",
              "      <th>Parch</th>\n",
              "      <th>Ticket</th>\n",
              "      <th>Fare</th>\n",
              "      <th>Cabin</th>\n",
              "      <th>Embarked</th>\n",
              "    </tr>\n",
              "  </thead>\n",
              "  <tbody>\n",
              "    <tr>\n",
              "      <th>0</th>\n",
              "      <td>1</td>\n",
              "      <td>0</td>\n",
              "      <td>3</td>\n",
              "      <td>Braund, Mr. Owen Harris</td>\n",
              "      <td>male</td>\n",
              "      <td>22.0</td>\n",
              "      <td>1</td>\n",
              "      <td>0</td>\n",
              "      <td>A/5 21171</td>\n",
              "      <td>7.2500</td>\n",
              "      <td>NaN</td>\n",
              "      <td>S</td>\n",
              "    </tr>\n",
              "    <tr>\n",
              "      <th>1</th>\n",
              "      <td>2</td>\n",
              "      <td>1</td>\n",
              "      <td>1</td>\n",
              "      <td>Cumings, Mrs. John Bradley (Florence Briggs Th...</td>\n",
              "      <td>female</td>\n",
              "      <td>38.0</td>\n",
              "      <td>1</td>\n",
              "      <td>0</td>\n",
              "      <td>PC 17599</td>\n",
              "      <td>71.2833</td>\n",
              "      <td>C85</td>\n",
              "      <td>C</td>\n",
              "    </tr>\n",
              "    <tr>\n",
              "      <th>2</th>\n",
              "      <td>3</td>\n",
              "      <td>1</td>\n",
              "      <td>3</td>\n",
              "      <td>Heikkinen, Miss. Laina</td>\n",
              "      <td>female</td>\n",
              "      <td>26.0</td>\n",
              "      <td>0</td>\n",
              "      <td>0</td>\n",
              "      <td>STON/O2. 3101282</td>\n",
              "      <td>7.9250</td>\n",
              "      <td>NaN</td>\n",
              "      <td>S</td>\n",
              "    </tr>\n",
              "    <tr>\n",
              "      <th>3</th>\n",
              "      <td>4</td>\n",
              "      <td>1</td>\n",
              "      <td>1</td>\n",
              "      <td>Futrelle, Mrs. Jacques Heath (Lily May Peel)</td>\n",
              "      <td>female</td>\n",
              "      <td>35.0</td>\n",
              "      <td>1</td>\n",
              "      <td>0</td>\n",
              "      <td>113803</td>\n",
              "      <td>53.1000</td>\n",
              "      <td>C123</td>\n",
              "      <td>S</td>\n",
              "    </tr>\n",
              "    <tr>\n",
              "      <th>4</th>\n",
              "      <td>5</td>\n",
              "      <td>0</td>\n",
              "      <td>3</td>\n",
              "      <td>Allen, Mr. William Henry</td>\n",
              "      <td>male</td>\n",
              "      <td>35.0</td>\n",
              "      <td>0</td>\n",
              "      <td>0</td>\n",
              "      <td>373450</td>\n",
              "      <td>8.0500</td>\n",
              "      <td>NaN</td>\n",
              "      <td>S</td>\n",
              "    </tr>\n",
              "  </tbody>\n",
              "</table>\n",
              "</div>"
            ],
            "text/plain": [
              "   PassengerId  Survived  Pclass  ...     Fare Cabin  Embarked\n",
              "0            1         0       3  ...   7.2500   NaN         S\n",
              "1            2         1       1  ...  71.2833   C85         C\n",
              "2            3         1       3  ...   7.9250   NaN         S\n",
              "3            4         1       1  ...  53.1000  C123         S\n",
              "4            5         0       3  ...   8.0500   NaN         S\n",
              "\n",
              "[5 rows x 12 columns]"
            ]
          },
          "metadata": {
            "tags": []
          },
          "execution_count": 10
        }
      ]
    },
    {
      "cell_type": "markdown",
      "metadata": {
        "id": "DuphTiF59Ixl"
      },
      "source": [
        "`train_df.head()`を使うことで、読み込んだデータの先頭5行が表示されました。\n",
        "\n",
        "*※`df.head()`は、デフォルトで先頭5行を表示するように設定されています。*\n",
        "\n",
        "\n",
        "\n",
        "今回データをダウンロードしたKaggleにも各カラムの説明が書いてありますが、すべて英語のテキストになっています。\n",
        "\n",
        "なので、以下に日本語のカラム説明を書いておきました。\n",
        "\n",
        "<table>\n",
        "    <tr>\n",
        "        <th>項目</th>\n",
        "        <th>定義(各項目の説明)</th>\n",
        "    </tr>\n",
        "    <tr>\n",
        "        <td>PassengerId</td>\n",
        "        <td>乗客のID(ユニーク)</td>\n",
        "    </tr>\n",
        "    <tr>\n",
        "        <td>Survived</td>\n",
        "        <td>生存フラグ（0=死亡、1=生存）</td>\n",
        "    </tr>\n",
        "    <tr>\n",
        "        <td>Pclass</td>\n",
        "        <td>チケットのクラス（1が最も良いクラス）</td>\n",
        "    </tr>\n",
        "    <tr>\n",
        "        <td>Name</td>\n",
        "        <td>乗客の名前</td>\n",
        "    </tr>\n",
        "    <tr>\n",
        "        <td> Sex</td>\n",
        "        <td>性別（male=男性、female＝女性）</td>\n",
        "    </tr>\n",
        "    <tr>\n",
        "        <td>Age</td>\n",
        "        <td>乗客の年齢</td>\n",
        "    </tr>\n",
        "    <tr>\n",
        "        <td>SibSp</td>\n",
        "        <td>同乗している兄弟/配偶者の数</td>\n",
        "    </tr>\n",
        "    <tr>\n",
        "        <td>parch</td>\n",
        "        <td>同乗している親/子供の数</td>\n",
        "    </tr>\n",
        "    <tr>\n",
        "        <td>ticket</td>\n",
        "        <td>チケット番号</td>\n",
        "    </tr>\n",
        "    <tr>\n",
        "        <td>fare</td>\n",
        "        <td>料金</td>\n",
        "    </tr>\n",
        "    <tr>\n",
        "        <td>cabin</td>\n",
        "        <td>客室番号</td>\n",
        "    </tr>\n",
        "    <tr>\n",
        "        <td>Embarked</td>\n",
        "        <td>タイタニック号に乗った港</td>\n",
        "    </tr>\n",
        "</table>\n",
        "\n",
        "今回使うデータは、上記のような項目になっています。\n",
        "\n",
        "<br>\n",
        "\n",
        "学習データには、このテーブルに書かれているすべての項目が入っていますね。\n",
        "\n",
        "それでは、テストデータの中身ものぞいてみましょう。学習データと同様に`test_df.head()`を使うことで確認できます。"
      ]
    },
    {
      "cell_type": "code",
      "metadata": {
        "scrolled": true,
        "colab": {
          "base_uri": "https://localhost:8080/",
          "height": 204
        },
        "id": "TcLwEt6p9Ixl",
        "outputId": "2b401045-9202-4288-8bb5-b6f173dbab78"
      },
      "source": [
        "# テストデータの先頭5行を確認してみる\n",
        "test_df.head()"
      ],
      "execution_count": 11,
      "outputs": [
        {
          "output_type": "execute_result",
          "data": {
            "text/html": [
              "<div>\n",
              "<style scoped>\n",
              "    .dataframe tbody tr th:only-of-type {\n",
              "        vertical-align: middle;\n",
              "    }\n",
              "\n",
              "    .dataframe tbody tr th {\n",
              "        vertical-align: top;\n",
              "    }\n",
              "\n",
              "    .dataframe thead th {\n",
              "        text-align: right;\n",
              "    }\n",
              "</style>\n",
              "<table border=\"1\" class=\"dataframe\">\n",
              "  <thead>\n",
              "    <tr style=\"text-align: right;\">\n",
              "      <th></th>\n",
              "      <th>PassengerId</th>\n",
              "      <th>Pclass</th>\n",
              "      <th>Name</th>\n",
              "      <th>Sex</th>\n",
              "      <th>Age</th>\n",
              "      <th>SibSp</th>\n",
              "      <th>Parch</th>\n",
              "      <th>Ticket</th>\n",
              "      <th>Fare</th>\n",
              "      <th>Cabin</th>\n",
              "      <th>Embarked</th>\n",
              "    </tr>\n",
              "  </thead>\n",
              "  <tbody>\n",
              "    <tr>\n",
              "      <th>0</th>\n",
              "      <td>892</td>\n",
              "      <td>3</td>\n",
              "      <td>Kelly, Mr. James</td>\n",
              "      <td>male</td>\n",
              "      <td>34.5</td>\n",
              "      <td>0</td>\n",
              "      <td>0</td>\n",
              "      <td>330911</td>\n",
              "      <td>7.8292</td>\n",
              "      <td>NaN</td>\n",
              "      <td>Q</td>\n",
              "    </tr>\n",
              "    <tr>\n",
              "      <th>1</th>\n",
              "      <td>893</td>\n",
              "      <td>3</td>\n",
              "      <td>Wilkes, Mrs. James (Ellen Needs)</td>\n",
              "      <td>female</td>\n",
              "      <td>47.0</td>\n",
              "      <td>1</td>\n",
              "      <td>0</td>\n",
              "      <td>363272</td>\n",
              "      <td>7.0000</td>\n",
              "      <td>NaN</td>\n",
              "      <td>S</td>\n",
              "    </tr>\n",
              "    <tr>\n",
              "      <th>2</th>\n",
              "      <td>894</td>\n",
              "      <td>2</td>\n",
              "      <td>Myles, Mr. Thomas Francis</td>\n",
              "      <td>male</td>\n",
              "      <td>62.0</td>\n",
              "      <td>0</td>\n",
              "      <td>0</td>\n",
              "      <td>240276</td>\n",
              "      <td>9.6875</td>\n",
              "      <td>NaN</td>\n",
              "      <td>Q</td>\n",
              "    </tr>\n",
              "    <tr>\n",
              "      <th>3</th>\n",
              "      <td>895</td>\n",
              "      <td>3</td>\n",
              "      <td>Wirz, Mr. Albert</td>\n",
              "      <td>male</td>\n",
              "      <td>27.0</td>\n",
              "      <td>0</td>\n",
              "      <td>0</td>\n",
              "      <td>315154</td>\n",
              "      <td>8.6625</td>\n",
              "      <td>NaN</td>\n",
              "      <td>S</td>\n",
              "    </tr>\n",
              "    <tr>\n",
              "      <th>4</th>\n",
              "      <td>896</td>\n",
              "      <td>3</td>\n",
              "      <td>Hirvonen, Mrs. Alexander (Helga E Lindqvist)</td>\n",
              "      <td>female</td>\n",
              "      <td>22.0</td>\n",
              "      <td>1</td>\n",
              "      <td>1</td>\n",
              "      <td>3101298</td>\n",
              "      <td>12.2875</td>\n",
              "      <td>NaN</td>\n",
              "      <td>S</td>\n",
              "    </tr>\n",
              "  </tbody>\n",
              "</table>\n",
              "</div>"
            ],
            "text/plain": [
              "   PassengerId  Pclass  ... Cabin Embarked\n",
              "0          892       3  ...   NaN        Q\n",
              "1          893       3  ...   NaN        S\n",
              "2          894       2  ...   NaN        Q\n",
              "3          895       3  ...   NaN        S\n",
              "4          896       3  ...   NaN        S\n",
              "\n",
              "[5 rows x 11 columns]"
            ]
          },
          "metadata": {
            "tags": []
          },
          "execution_count": 11
        }
      ]
    },
    {
      "cell_type": "markdown",
      "metadata": {
        "id": "NGhIEsCc9Ixm"
      },
      "source": [
        "そうすると、学習データと比較して、ヘッダーが少ないように感じます。\n",
        "\n",
        "実際に、各データの大きさを確認してみましょう。データの大きさを確認するには、`df.shape`を使ってあげます。"
      ]
    },
    {
      "cell_type": "code",
      "metadata": {
        "colab": {
          "base_uri": "https://localhost:8080/"
        },
        "id": "PYLQTkps9Ixm",
        "outputId": "09632625-6627-4ef7-be11-9d6b1c30f0d7"
      },
      "source": [
        "# データフレームの大きさ\n",
        "print(train_df.shape)\n",
        "print(test_df.shape)"
      ],
      "execution_count": 12,
      "outputs": [
        {
          "output_type": "stream",
          "text": [
            "(891, 12)\n",
            "(418, 11)\n"
          ],
          "name": "stdout"
        }
      ]
    },
    {
      "cell_type": "markdown",
      "metadata": {
        "id": "7NpcEXUS9Ixm"
      },
      "source": [
        "そうすると(〇〇, 〇〇)のような形で出力されました。これは(行数, 列数)を意味しています。\n",
        "\n",
        "最初は行と列がややこしいかもしれません。行は縦の数で、列は横の数になります。\n",
        "\n",
        "なので今回でいうと、行数は乗客の数、列数はヘッダー情報の数です。\n",
        "\n",
        "<br>\n",
        "\n",
        "以上のことを踏まえると、テストデータは乗客の数も少ないですが、同時にヘッダー情報も1つ少なくなっています。\n",
        "\n",
        "学習データと比較して何が足りなくなっているのか確認してみると、**`Survived`が抜け落ちている**ことが分かります。\n",
        "\n",
        "<br>\n",
        "\n",
        "「こんなデータじゃ使い物にならないじゃないか...！」と思われるかもしれませんが、そんなことはありません。\n",
        "\n",
        "なぜなら`Survived`、つまり「生存しているか否か」が今回予測することだからです。\n",
        "\n",
        "つまり、**学習データ(=train_df)を使って、テストデータ(=test_df)の人たちが「生存するか否か」を当てるのが、今回予測したいこと**になります。"
      ]
    },
    {
      "cell_type": "markdown",
      "metadata": {
        "id": "Bwuz12QW9Ixn"
      },
      "source": [
        "## このデータには、どんな特徴があるんだろう？\n",
        "\n",
        "どんなデータが入っているのか分かったところで、次にどのような特徴があるのか確認していきましょう。\n",
        "\n",
        "### データの連結\n",
        "\n",
        "その前に、学習データとテストデータを連結しておきましょう。データを見ていくとき、学習データとテストデータが分かれている必要がないですし、分けておくと同じコードを2回実行する必要が出てきてしまうので！\n",
        "\n",
        "*※今回はKaggleを使っているので、丁寧に学習データとテストデータに分割されていますが、通常はすべてまとまったデータになっています。*\n",
        "\n",
        "<br>\n",
        "\n",
        "データを縦に連結するときは、以下のように`pd.concat()`を使ってあげます。"
      ]
    },
    {
      "cell_type": "code",
      "metadata": {
        "id": "dATOv-EH9Ixn"
      },
      "source": [
        "# 学習データとテストデータを連結する\n",
        "df = pd.concat([train_df, test_df], ignore_index=True)"
      ],
      "execution_count": 23,
      "outputs": []
    },
    {
      "cell_type": "markdown",
      "metadata": {
        "id": "SgPggUey9Ixn"
      },
      "source": [
        "この1行で、データの連結が完了しました。\n",
        "\n",
        "`ignore_index=True`としておくことで、連結するときのインデックス番号(=1番左の番号)を振り直しできます\n",
        "\n",
        "*※逆に「`ignore_index=True`を付けないとどうなるか？」は、ぜひ試してみてください！*\n",
        "\n",
        "<br>\n",
        "\n",
        "実際に、うまく連結できているか確認してみましょう。データの大きさを見るときは、`df.shape`でしたね！"
      ]
    },
    {
      "cell_type": "code",
      "metadata": {
        "colab": {
          "base_uri": "https://localhost:8080/"
        },
        "id": "WB3tiwZp9Ixn",
        "outputId": "0d36bb1f-f736-4f60-82ea-0df25ca9f62a"
      },
      "source": [
        "# 連結したデータの大きさを確認する\n",
        "df.shape"
      ],
      "execution_count": 24,
      "outputs": [
        {
          "output_type": "execute_result",
          "data": {
            "text/plain": [
              "(1309, 12)"
            ]
          },
          "metadata": {
            "tags": []
          },
          "execution_count": 24
        }
      ]
    },
    {
      "cell_type": "markdown",
      "metadata": {
        "id": "qfLNRK5n9Ixo"
      },
      "source": [
        "そうすると、(1309, 12)と表示されました、学習データが891行、テストデータが418行だったのでしっかりと連結できていることが分かります。\n",
        "\n",
        "ちなみに、テストデータは`Survived`の列がないので、学習データと連結すると該当部分が空になっています。\n",
        "\n",
        "<br>\n",
        "\n",
        "これを確認したいのですが、そのためには`df.tail()`を使ってあげます。`df.head()`が先頭5行だったのに対して、`df.tail()`は最後の5行を確認できます。"
      ]
    },
    {
      "cell_type": "code",
      "metadata": {
        "colab": {
          "base_uri": "https://localhost:8080/",
          "height": 204
        },
        "id": "XEynDW1D9Ixo",
        "outputId": "e7c72e81-2244-4ad1-e8b1-352bcefa9a47"
      },
      "source": [
        "# 最後の5行を確認\n",
        "df.tail()"
      ],
      "execution_count": 25,
      "outputs": [
        {
          "output_type": "execute_result",
          "data": {
            "text/html": [
              "<div>\n",
              "<style scoped>\n",
              "    .dataframe tbody tr th:only-of-type {\n",
              "        vertical-align: middle;\n",
              "    }\n",
              "\n",
              "    .dataframe tbody tr th {\n",
              "        vertical-align: top;\n",
              "    }\n",
              "\n",
              "    .dataframe thead th {\n",
              "        text-align: right;\n",
              "    }\n",
              "</style>\n",
              "<table border=\"1\" class=\"dataframe\">\n",
              "  <thead>\n",
              "    <tr style=\"text-align: right;\">\n",
              "      <th></th>\n",
              "      <th>PassengerId</th>\n",
              "      <th>Survived</th>\n",
              "      <th>Pclass</th>\n",
              "      <th>Name</th>\n",
              "      <th>Sex</th>\n",
              "      <th>Age</th>\n",
              "      <th>SibSp</th>\n",
              "      <th>Parch</th>\n",
              "      <th>Ticket</th>\n",
              "      <th>Fare</th>\n",
              "      <th>Cabin</th>\n",
              "      <th>Embarked</th>\n",
              "    </tr>\n",
              "  </thead>\n",
              "  <tbody>\n",
              "    <tr>\n",
              "      <th>1304</th>\n",
              "      <td>1305</td>\n",
              "      <td>NaN</td>\n",
              "      <td>3</td>\n",
              "      <td>Spector, Mr. Woolf</td>\n",
              "      <td>male</td>\n",
              "      <td>NaN</td>\n",
              "      <td>0</td>\n",
              "      <td>0</td>\n",
              "      <td>A.5. 3236</td>\n",
              "      <td>8.0500</td>\n",
              "      <td>NaN</td>\n",
              "      <td>S</td>\n",
              "    </tr>\n",
              "    <tr>\n",
              "      <th>1305</th>\n",
              "      <td>1306</td>\n",
              "      <td>NaN</td>\n",
              "      <td>1</td>\n",
              "      <td>Oliva y Ocana, Dona. Fermina</td>\n",
              "      <td>female</td>\n",
              "      <td>39.0</td>\n",
              "      <td>0</td>\n",
              "      <td>0</td>\n",
              "      <td>PC 17758</td>\n",
              "      <td>108.9000</td>\n",
              "      <td>C105</td>\n",
              "      <td>C</td>\n",
              "    </tr>\n",
              "    <tr>\n",
              "      <th>1306</th>\n",
              "      <td>1307</td>\n",
              "      <td>NaN</td>\n",
              "      <td>3</td>\n",
              "      <td>Saether, Mr. Simon Sivertsen</td>\n",
              "      <td>male</td>\n",
              "      <td>38.5</td>\n",
              "      <td>0</td>\n",
              "      <td>0</td>\n",
              "      <td>SOTON/O.Q. 3101262</td>\n",
              "      <td>7.2500</td>\n",
              "      <td>NaN</td>\n",
              "      <td>S</td>\n",
              "    </tr>\n",
              "    <tr>\n",
              "      <th>1307</th>\n",
              "      <td>1308</td>\n",
              "      <td>NaN</td>\n",
              "      <td>3</td>\n",
              "      <td>Ware, Mr. Frederick</td>\n",
              "      <td>male</td>\n",
              "      <td>NaN</td>\n",
              "      <td>0</td>\n",
              "      <td>0</td>\n",
              "      <td>359309</td>\n",
              "      <td>8.0500</td>\n",
              "      <td>NaN</td>\n",
              "      <td>S</td>\n",
              "    </tr>\n",
              "    <tr>\n",
              "      <th>1308</th>\n",
              "      <td>1309</td>\n",
              "      <td>NaN</td>\n",
              "      <td>3</td>\n",
              "      <td>Peter, Master. Michael J</td>\n",
              "      <td>male</td>\n",
              "      <td>NaN</td>\n",
              "      <td>1</td>\n",
              "      <td>1</td>\n",
              "      <td>2668</td>\n",
              "      <td>22.3583</td>\n",
              "      <td>NaN</td>\n",
              "      <td>C</td>\n",
              "    </tr>\n",
              "  </tbody>\n",
              "</table>\n",
              "</div>"
            ],
            "text/plain": [
              "      PassengerId  Survived  Pclass  ...      Fare Cabin  Embarked\n",
              "1304         1305       NaN       3  ...    8.0500   NaN         S\n",
              "1305         1306       NaN       1  ...  108.9000  C105         C\n",
              "1306         1307       NaN       3  ...    7.2500   NaN         S\n",
              "1307         1308       NaN       3  ...    8.0500   NaN         S\n",
              "1308         1309       NaN       3  ...   22.3583   NaN         C\n",
              "\n",
              "[5 rows x 12 columns]"
            ]
          },
          "metadata": {
            "tags": []
          },
          "execution_count": 25
        }
      ]
    },
    {
      "cell_type": "markdown",
      "metadata": {
        "id": "_NmREhgQ9Ixo"
      },
      "source": [
        "確認してみると、`Survived`の中身が空になっていることが分かりますね。\n",
        "\n",
        "これで学習データとテストデータが、しっかり連結できていることが分かりました。\n",
        "\n",
        "<br>\n",
        "\n",
        "あとは、各データの特徴を確認していきましょう。\n",
        "\n",
        "### データの可視化\n",
        "\n",
        "各カラム(=列)に、どんなデータが入っているのか確認するときは、グラフにしてデータの可視化をしてあげると良いです。これは、自分で見るときもそうだし、相手に見せるときも含めてですね！\n",
        "\n",
        "<br>\n",
        "\n",
        "細かく見ていくと、それだけで3本くらいの動画にできてしまうので、今回は簡単に以下の項目だけデータの可視化をやっていきたいと思います。\n",
        "\n",
        "- 性別 : どんな内訳になっているのか？\n",
        "- チケットのクラス : どんな階級の人が多いのか？\n",
        "\n",
        "なお、性別やチケットのクラスなど、各カテゴリーの数値を確認したいときは、**棒グラフ(barplot)**を使ってあげると良いです。\n",
        "\n",
        "<br>\n",
        "\n",
        "今回は練習のため「性別 : どんな内訳になっているのか？」を確認する3つの方法を紹介していきます。"
      ]
    },
    {
      "cell_type": "markdown",
      "metadata": {
        "id": "HzmUOskM9Ixo"
      },
      "source": [
        "#### Matplotlibで表示する方法\n",
        "\n",
        "`matplotlib`で男女の内訳を確認するには、まず各性別ごとの人数を集計する必要があります。\n",
        "\n",
        "つまり、①性別ごとにグループ分け(=男性と女性に分ける)して、②各性別ごとにカウントするってことになります。\n",
        "\n",
        "<br>\n",
        "\n",
        "これをコードで書いていきましょう。以下のように書くと、性別ごとの集計をおこなえます。"
      ]
    },
    {
      "cell_type": "code",
      "metadata": {
        "colab": {
          "base_uri": "https://localhost:8080/",
          "height": 142
        },
        "id": "8eltyMzj9Ixo",
        "outputId": "57e6dcc1-f7fb-4b97-d5d8-180b3de5a7a2"
      },
      "source": [
        "# ①性別ごとにグループ分けして、②各性別ごとにカウントする\n",
        "df.groupby('Sex').agg({'Sex': 'count'})"
      ],
      "execution_count": 26,
      "outputs": [
        {
          "output_type": "execute_result",
          "data": {
            "text/html": [
              "<div>\n",
              "<style scoped>\n",
              "    .dataframe tbody tr th:only-of-type {\n",
              "        vertical-align: middle;\n",
              "    }\n",
              "\n",
              "    .dataframe tbody tr th {\n",
              "        vertical-align: top;\n",
              "    }\n",
              "\n",
              "    .dataframe thead th {\n",
              "        text-align: right;\n",
              "    }\n",
              "</style>\n",
              "<table border=\"1\" class=\"dataframe\">\n",
              "  <thead>\n",
              "    <tr style=\"text-align: right;\">\n",
              "      <th></th>\n",
              "      <th>Sex</th>\n",
              "    </tr>\n",
              "    <tr>\n",
              "      <th>Sex</th>\n",
              "      <th></th>\n",
              "    </tr>\n",
              "  </thead>\n",
              "  <tbody>\n",
              "    <tr>\n",
              "      <th>female</th>\n",
              "      <td>466</td>\n",
              "    </tr>\n",
              "    <tr>\n",
              "      <th>male</th>\n",
              "      <td>843</td>\n",
              "    </tr>\n",
              "  </tbody>\n",
              "</table>\n",
              "</div>"
            ],
            "text/plain": [
              "        Sex\n",
              "Sex        \n",
              "female  466\n",
              "male    843"
            ]
          },
          "metadata": {
            "tags": []
          },
          "execution_count": 26
        }
      ]
    },
    {
      "cell_type": "markdown",
      "metadata": {
        "id": "YofDQrrx9Ixp"
      },
      "source": [
        "これで、男性と女性の数を集計できました。\n",
        "\n",
        "この集計結果を、変数`tmp`に入れておきたいと思います。なお、変数に格納するとき、カラム名の`Sex`は`count_sex`とかに変更しておきましょう。"
      ]
    },
    {
      "cell_type": "code",
      "metadata": {
        "colab": {
          "base_uri": "https://localhost:8080/",
          "height": 142
        },
        "id": "6yFHryIx9Ixp",
        "outputId": "3a33e3eb-435f-4aff-f3fc-36f4ad010fa9"
      },
      "source": [
        "# 集計結果を変数tmpに格納する\n",
        "tmp = df.groupby('Sex').agg({'Sex': 'count'}).rename(columns={'Sex': 'count_sex'})\n",
        "tmp"
      ],
      "execution_count": 29,
      "outputs": [
        {
          "output_type": "execute_result",
          "data": {
            "text/html": [
              "<div>\n",
              "<style scoped>\n",
              "    .dataframe tbody tr th:only-of-type {\n",
              "        vertical-align: middle;\n",
              "    }\n",
              "\n",
              "    .dataframe tbody tr th {\n",
              "        vertical-align: top;\n",
              "    }\n",
              "\n",
              "    .dataframe thead th {\n",
              "        text-align: right;\n",
              "    }\n",
              "</style>\n",
              "<table border=\"1\" class=\"dataframe\">\n",
              "  <thead>\n",
              "    <tr style=\"text-align: right;\">\n",
              "      <th></th>\n",
              "      <th>count_sex</th>\n",
              "    </tr>\n",
              "    <tr>\n",
              "      <th>Sex</th>\n",
              "      <th></th>\n",
              "    </tr>\n",
              "  </thead>\n",
              "  <tbody>\n",
              "    <tr>\n",
              "      <th>female</th>\n",
              "      <td>466</td>\n",
              "    </tr>\n",
              "    <tr>\n",
              "      <th>male</th>\n",
              "      <td>843</td>\n",
              "    </tr>\n",
              "  </tbody>\n",
              "</table>\n",
              "</div>"
            ],
            "text/plain": [
              "        count_sex\n",
              "Sex              \n",
              "female        466\n",
              "male          843"
            ]
          },
          "metadata": {
            "tags": []
          },
          "execution_count": 29
        }
      ]
    },
    {
      "cell_type": "markdown",
      "metadata": {
        "id": "gNE2kHRZ9Ixp"
      },
      "source": [
        "これで良いですね。あとは、グラフにするだけです。\n",
        "\n",
        "`matplotlib`で棒グラフを作成するには、`plt.bar(x軸で使う列(=カラム), y軸で使う列(=カラム))`と書いてあげます。"
      ]
    },
    {
      "cell_type": "code",
      "metadata": {
        "colab": {
          "base_uri": "https://localhost:8080/",
          "height": 377
        },
        "id": "I9V54EMD9Ixp",
        "outputId": "246c184c-4cd8-4978-ee4d-491b277a4cfa"
      },
      "source": [
        "# グラフの大きさを設定\n",
        "plt.figure(figsize=(10, 6))\n",
        "\n",
        "# 性別の数を確認してみる\n",
        "plt.bar(tmp.index, tmp.count_sex)\n",
        "plt.show()"
      ],
      "execution_count": 30,
      "outputs": [
        {
          "output_type": "display_data",
          "data": {
            "image/png": "[encoded data removed]",
            "text/plain": [
              "<Figure size 720x432 with 1 Axes>"
            ]
          },
          "metadata": {
            "tags": [],
            "needs_background": "light"
          }
        }
      ]
    },
    {
      "cell_type": "markdown",
      "metadata": {
        "id": "qi33rbqn9Ixp"
      },
      "source": [
        "これで、各性別の数を確認できました。グラフにすると、直感的に男性が多いと分かりますね。"
      ]
    },
    {
      "cell_type": "markdown",
      "metadata": {
        "id": "92emreOq9Ixp"
      },
      "source": [
        "#### Pandasで表示する\n",
        "\n",
        "なお、今回`matplotlib`を使って書いたコードは、`Pandas`だけでも実現可能です。\n",
        "\n",
        "`Pandas`を使う場合、以下のように`tmp`の後に少し書き足すだけで良いので、簡単なグラフ作成なら、こちらを選択すると良いですね。"
      ]
    },
    {
      "cell_type": "code",
      "metadata": {
        "colab": {
          "base_uri": "https://localhost:8080/",
          "height": 440
        },
        "id": "aagUaR5U9Ixq",
        "outputId": "fe2159a1-610f-4de5-e1bf-7ce8e735ea54"
      },
      "source": [
        "# pandasで棒グラフを作成する\n",
        "tmp.plot(kind='bar', figsize=(10, 6))"
      ],
      "execution_count": 31,
      "outputs": [
        {
          "output_type": "execute_result",
          "data": {
            "text/plain": [
              "<matplotlib.axes._subplots.AxesSubplot at 0x7f4288531b10>"
            ]
          },
          "metadata": {
            "tags": []
          },
          "execution_count": 31
        },
        {
          "output_type": "display_data",
          "data": {
            "image/png": "[encoded data removed]",
            "text/plain": [
              "<Figure size 720x432 with 1 Axes>"
            ]
          },
          "metadata": {
            "tags": [],
            "needs_background": "light"
          }
        }
      ]
    },
    {
      "cell_type": "markdown",
      "metadata": {
        "id": "kzd5gWuD9Ixq"
      },
      "source": [
        "#### Seabornで表示する\n",
        "\n",
        "`matplotlib`や`pandas`でグラフを作成するとき、いったん集計を挟んでから棒グラフを作成しました。\n",
        "\n",
        "でも、これは少し面倒に感じますし、今は「女性・男性」の並び順になっていますが、「男性・女性」の並び順に変更した方が、感覚的に分かりやすい気がします。\n",
        "\n",
        "さらに、それぞれの棒に色付けしてあると、もっと見やすいグラフになりそうです。\n",
        "\n",
        "<br>\n",
        "\n",
        "そんなときは`seaborn`を使ってあげるとお悩み解決できて、`sns.countplot()`を使うことで簡単に男女の人数をカウントした棒グラフを作成できます。"
      ]
    },
    {
      "cell_type": "code",
      "metadata": {
        "colab": {
          "base_uri": "https://localhost:8080/",
          "height": 468
        },
        "id": "towxqH_f9Ixq",
        "outputId": "86f716be-e73d-4601-fa18-fab0b9210320"
      },
      "source": [
        "# グラフの大きさを設定\n",
        "plt.figure(figsize=(10, 6))\n",
        "\n",
        "# 性別の数を確認してみる\n",
        "sns.countplot('Sex', data=df)"
      ],
      "execution_count": 32,
      "outputs": [
        {
          "output_type": "stream",
          "text": [
            "/usr/local/lib/python3.7/dist-packages/seaborn/_decorators.py:43: FutureWarning: Pass the following variable as a keyword arg: x. From version 0.12, the only valid positional argument will be `data`, and passing other arguments without an explicit keyword will result in an error or misinterpretation.\n",
            "  FutureWarning\n"
          ],
          "name": "stderr"
        },
        {
          "output_type": "execute_result",
          "data": {
            "text/plain": [
              "<matplotlib.axes._subplots.AxesSubplot at 0x7f4287e67810>"
            ]
          },
          "metadata": {
            "tags": []
          },
          "execution_count": 32
        },
        {
          "output_type": "display_data",
          "data": {
            "image/png": "[encoded data removed]",
            "text/plain": [
              "<Figure size 720x432 with 1 Axes>"
            ]
          },
          "metadata": {
            "tags": [],
            "needs_background": "light"
          }
        }
      ]
    },
    {
      "cell_type": "markdown",
      "metadata": {
        "id": "7rdK4DAr9Ixq"
      },
      "source": [
        "`seaborn`を利用すると、集計するコードを書かなくて良いですし、色付けもよしなにやってくれます。\n",
        "\n",
        "色々な意味でラクできるので、特に棒グラフの作成をするなら`seaborn`を使ってあげると良いですね。\n",
        "\n",
        "<br>\n",
        "\n",
        "もちろん、男性と女性のように2種類を表示するときだけではなく、それ以上の場合でも色付けしてくれます。\n",
        "\n",
        "チケットのクラス(=`Pclass`)でも、`seaborn`を使って可視化してみましょう。"
      ]
    },
    {
      "cell_type": "code",
      "metadata": {
        "colab": {
          "base_uri": "https://localhost:8080/",
          "height": 468
        },
        "id": "C_h71F059Ixq",
        "outputId": "446624a7-44f2-4e8d-bc13-1ba70b7bcca6"
      },
      "source": [
        "# グラフの大きさを設定\n",
        "plt.figure(figsize=(10, 6))\n",
        "\n",
        "# seabornで棒グラフを作成する\n",
        "sns.countplot('Pclass', data=df)\n"
      ],
      "execution_count": 34,
      "outputs": [
        {
          "output_type": "stream",
          "text": [
            "/usr/local/lib/python3.7/dist-packages/seaborn/_decorators.py:43: FutureWarning: Pass the following variable as a keyword arg: x. From version 0.12, the only valid positional argument will be `data`, and passing other arguments without an explicit keyword will result in an error or misinterpretation.\n",
            "  FutureWarning\n"
          ],
          "name": "stderr"
        },
        {
          "output_type": "execute_result",
          "data": {
            "text/plain": [
              "<matplotlib.axes._subplots.AxesSubplot at 0x7f4287dc0d90>"
            ]
          },
          "metadata": {
            "tags": []
          },
          "execution_count": 34
        },
        {
          "output_type": "display_data",
          "data": {
            "image/png": "[encoded data removed]",
            "text/plain": [
              "<Figure size 720x432 with 1 Axes>"
            ]
          },
          "metadata": {
            "tags": [],
            "needs_background": "light"
          }
        }
      ]
    },
    {
      "cell_type": "markdown",
      "metadata": {
        "id": "P18_EwzZ9Ixr"
      },
      "source": [
        "このように、3種類あってもキレイに表示できました。\n",
        "\n",
        "`Pclass`は1番が最も良いので、「やっぱり高級なチケットは、1番お客さんが少ないのかな...」と思いきや、意外にも2番目(=真ん中のクラス)が最も少ないことが分かりましたね。\n",
        "\n",
        "<br>\n",
        "\n",
        "このようにデータを見てあげると色々なことが分かってきます。\n",
        "\n",
        "さらにデータの可視化を深掘ることで、機械学習で使うカラム(=特徴量)を決めていくのですが、今回はこれくらいにして次に進みたいと思います。\n",
        "\n",
        "ただ、機械学習で使うカラムは決めておく必要があるので、今回は「以下4つの特徴量を使う」としましょう。\n",
        "\n",
        "- チケットのクラス\n",
        "- 年齢\n",
        "- 性別\n",
        "- 港"
      ]
    },
    {
      "cell_type": "markdown",
      "metadata": {
        "id": "C6LJ8bqG9Ixr"
      },
      "source": [
        "### 欠けているデータはあるのかな？\n",
        "\n",
        "データの可視化と一緒にやるべきことが、欠損値の確認です。\n",
        "\n",
        "欠けているデータがあるなら、それを補ったり削除したりする必要があります。\n",
        "\n",
        "欠損値を補完する理由は、\"基本的に\"欠損値があると機械学習でうまく予測できないからです。\n",
        "\n",
        "*※\"基本的に\"と言っているからには、欠損値があっても機械学習できるアルゴリズムが存在します。ただ、ほとんどの機械学習アルゴリズムで欠損値の補完が必要になります。*\n",
        "\n",
        "<br>\n",
        "\n",
        "欠損値の確認方法はカンタンで、以下のように書くだけでOKです。"
      ]
    },
    {
      "cell_type": "code",
      "metadata": {
        "colab": {
          "base_uri": "https://localhost:8080/"
        },
        "id": "V6sOfVzR9Ixr",
        "outputId": "b00fa66c-0135-4cde-814a-c0245cced973"
      },
      "source": [
        "# データ内の欠損値を確認する\n",
        "df.isnull().sum()"
      ],
      "execution_count": 36,
      "outputs": [
        {
          "output_type": "execute_result",
          "data": {
            "text/plain": [
              "PassengerId       0\n",
              "Survived        418\n",
              "Pclass            0\n",
              "Name              0\n",
              "Sex               0\n",
              "Age             263\n",
              "SibSp             0\n",
              "Parch             0\n",
              "Ticket            0\n",
              "Fare              1\n",
              "Cabin          1014\n",
              "Embarked          2\n",
              "dtype: int64"
            ]
          },
          "metadata": {
            "tags": []
          },
          "execution_count": 36
        }
      ]
    },
    {
      "cell_type": "markdown",
      "metadata": {
        "id": "jOAi4eto9Ixr"
      },
      "source": [
        "上記のように書くことで、各項目で欠けているデータを確認できます。\n",
        "\n",
        "例えば`Cabin`=客室番号は、そのほとんどが欠けてしまっていることが分かります。\n",
        "\n",
        "<br>\n",
        "\n",
        "他にも、乗客の年齢(=`Age`)やタイタニック号に乗った港(=`Embarked`)、またチケットの料金(=`Fare`)が欠けていることが分かります。\n",
        "\n",
        "*※`Survived`はテストデータに元から入っていなかったので、気にしなくて大丈夫です!*\n",
        "\n",
        "<br>\n",
        "\n",
        "このように、欠損値の有無とその数を確認することで、欠損値の対処方法を考えていきます。\n",
        "\n",
        "では、どのように欠損値を埋めていくのか。それは、次のステップで紹介していきます。"
      ]
    },
    {
      "cell_type": "markdown",
      "metadata": {
        "id": "lGVJev9X9Ixr"
      },
      "source": [
        "# データの加工・前処理・特徴量エンジニアリング\n",
        "\n",
        "データの中身を確認したら、機械学習で使うためのデータに変換していきます。\n",
        "\n",
        "このフェーズを、「データの前処理」とか「データ加工」と言います。\n",
        "\n",
        "また、機械学習で良い結果を出すために、新しいカラムを作成することを特徴量エンジニアリングと言います。機械学習で使うカラム(=特徴量)を作り出す(=エンジニアリング)ってことですね。\n",
        "\n",
        "<br>\n",
        "\n",
        "データの可視化で確認したとおり、タイタニックのデータには欠損値が存在することが分かりました。\n",
        "\n",
        "今回は、欠損値が存在したカラムの中でも、乗客の年齢(=`Age`)と出発した港(=`Embarked`)を使っていきたいです。\n",
        "\n",
        "なので、このステップでは、データ前処理として「欠損値の補完」をやっていきたいと思います。"
      ]
    },
    {
      "cell_type": "markdown",
      "metadata": {
        "id": "QqhTCf1T9Ixs"
      },
      "source": [
        "## 年齢とタイタニック号に乗った港の欠損値を埋める\n",
        "\n",
        "そもそも欠損値の対処方法として、補完するだけではなく、削除する方法もあります。\n",
        "\n",
        "例えば、年齢が分からない乗客は使わないってことですね。\n",
        "\n",
        "<br>\n",
        "\n",
        "でも、今回使っているタイタニックデータは、全部で1309件しかありません。\n",
        "\n",
        "元からデータ量が多いわけではないので、年齢が分からない乗客を削除してしまうと、さらにデータ量が減ってしまいます。\n",
        "\n",
        "<br>\n",
        "\n",
        "こういった背景があり、今回は欠損値を「削除」するのではなく「補完」する方法を選びました。"
      ]
    },
    {
      "cell_type": "markdown",
      "metadata": {
        "id": "BsMfbCkv9Ixs"
      },
      "source": [
        "### Embarked\n",
        "\n",
        "まずは、タイタニック号に乗った港の欠損値補完をしていきましょう。\n",
        "\n",
        "そもそも`Embarked`にどれくらいの欠損があったか、再度確認しておきたいと思います。"
      ]
    },
    {
      "cell_type": "code",
      "metadata": {
        "colab": {
          "base_uri": "https://localhost:8080/"
        },
        "id": "imj_HAHd9Ixs",
        "outputId": "d84d63f6-0fad-436a-df30-acf082cc82e0"
      },
      "source": [
        "# Embarkedの欠損値を確認する\n",
        "df.Embarked.isnull().sum()"
      ],
      "execution_count": 37,
      "outputs": [
        {
          "output_type": "execute_result",
          "data": {
            "text/plain": [
              "2"
            ]
          },
          "metadata": {
            "tags": []
          },
          "execution_count": 37
        }
      ]
    },
    {
      "cell_type": "markdown",
      "metadata": {
        "id": "UETlGijT9Ixt"
      },
      "source": [
        "`Embarked`は、2人の乗客だけデータが欠けていることが分かりました。\n",
        "\n",
        "全体から考えて、そこまで欠損値が多いわけではないですね。なので、今回は最も乗客が多かった港で補ってあげたいと思います。\n",
        "\n",
        "<br>\n",
        "\n",
        "タイタニック号に乗った港の数を確認したいのですが、それには`sns.countplot()`を使ってあげると、カンタンに確認できましたね。"
      ]
    },
    {
      "cell_type": "code",
      "metadata": {
        "colab": {
          "base_uri": "https://localhost:8080/",
          "height": 450
        },
        "id": "LCVQdA5H9Ixt",
        "outputId": "4a573eaa-b163-4260-d354-54a671ca0a8d"
      },
      "source": [
        "# グラフの大きさを設定\n",
        "plt.figure(figsize=(10, 6))\n",
        "\n",
        "# 乗船した港を確認する\n",
        "sns.countplot('Embarked', data=df)\n",
        "plt.show()"
      ],
      "execution_count": 41,
      "outputs": [
        {
          "output_type": "stream",
          "text": [
            "/usr/local/lib/python3.7/dist-packages/seaborn/_decorators.py:43: FutureWarning: Pass the following variable as a keyword arg: x. From version 0.12, the only valid positional argument will be `data`, and passing other arguments without an explicit keyword will result in an error or misinterpretation.\n",
            "  FutureWarning\n"
          ],
          "name": "stderr"
        },
        {
          "output_type": "display_data",
          "data": {
            "image/png": "[encoded data removed]",
            "text/plain": [
              "<Figure size 720x432 with 1 Axes>"
            ]
          },
          "metadata": {
            "tags": [],
            "needs_background": "light"
          }
        }
      ]
    },
    {
      "cell_type": "markdown",
      "metadata": {
        "id": "kn9ek5hK9Ixt"
      },
      "source": [
        "可視化してみると、ほとんどの乗客が`S`という港から乗ってきたことが分かります。\n",
        "\n",
        "というわけで、欠けている2箇所を`S`で補っていきましょう。欠損値を補完するには、`fillna(\"補完したい値\")`のように書いてあげます。\n",
        "\n",
        "<br>\n",
        "\n",
        "なお、データに変更を加える前に、`df.copy()`を使って元データをコピーしてから欠損値の補完をしていきたいと思います。"
      ]
    },
    {
      "cell_type": "code",
      "metadata": {
        "id": "UzWgA9wu9Ixt"
      },
      "source": [
        "# 元データをコピー\n",
        "df2 = df.copy()\n",
        "\n",
        "# 欠損値の補完\n",
        "df2.Embarked = df2.Embarked.fillna('S')"
      ],
      "execution_count": 43,
      "outputs": []
    },
    {
      "cell_type": "markdown",
      "metadata": {
        "id": "zHOFniL09Ixt"
      },
      "source": [
        "このように書くことで、出発した港`Embarked`の補完が完了しました。\n",
        "\n",
        "ちゃんと補完できているか確認するには、以下のように書いてあげれば大丈夫ですね。"
      ]
    },
    {
      "cell_type": "code",
      "metadata": {
        "colab": {
          "base_uri": "https://localhost:8080/"
        },
        "id": "2051z-D19Ixu",
        "outputId": "ebd0a7f1-d30d-4d32-fcd5-9a6cb6a79ad8"
      },
      "source": [
        "# 乗船した港の欠損値を再度確認する\n",
        "df2.Embarked.isnull().sum()"
      ],
      "execution_count": 44,
      "outputs": [
        {
          "output_type": "execute_result",
          "data": {
            "text/plain": [
              "0"
            ]
          },
          "metadata": {
            "tags": []
          },
          "execution_count": 44
        }
      ]
    },
    {
      "cell_type": "markdown",
      "metadata": {
        "id": "zvwNVLpZ9Ixu"
      },
      "source": [
        "しっかり欠損値を補完できていることが分かります。"
      ]
    },
    {
      "cell_type": "markdown",
      "metadata": {
        "id": "OCL1th0c9Ixu"
      },
      "source": [
        "### Age\n",
        "\n",
        "出発した港と同様に、乗客の年齢も補完していきましょう。\n",
        "\n",
        "まずは、乗客の年齢がどうなっているのか確認していきたいと思います。より具体的にいうと「どの年齢層の乗客が多いのか」を把握しておきたいですね。\n",
        "\n",
        "<br>\n",
        "\n",
        "このように、各層ごとのボリュームを見たい場合には、**ヒストグラム**を書いてあげます。`sns.distplot()`を使うと、カンタンにヒストグラムの描画できます。\n",
        "\n",
        "今回は10代、20代のように、年齢層ごとに確認していきたいので、まずは乗客の年齢における最大値・最小値を確認しておきましょう。\n",
        "\n",
        "<br>\n",
        "\n",
        "最大値・最小値を確認する方法もカンタンで、以下のように書いてあげるだけです！"
      ]
    },
    {
      "cell_type": "code",
      "metadata": {
        "colab": {
          "base_uri": "https://localhost:8080/"
        },
        "id": "M6CmsBb89Ixu",
        "outputId": "4718343b-6633-4b74-f3dc-9f56a1c9c986"
      },
      "source": [
        "# 年齢の最小値と最大値を確認\n",
        "print(df2.Age.max())\n",
        "print(df2.Age.min())"
      ],
      "execution_count": 45,
      "outputs": [
        {
          "output_type": "stream",
          "text": [
            "80.0\n",
            "0.17\n"
          ],
          "name": "stdout"
        }
      ]
    },
    {
      "cell_type": "markdown",
      "metadata": {
        "id": "UmM6CHCl9Ixv"
      },
      "source": [
        "タイタニック号の乗客は、上が80歳、下が0歳児までいることが分かります。\n",
        "\n",
        "ということは、乗客の年齢を8コに分割してあげると、各年代ごとのボリュームを確認できますね。\n",
        "\n",
        "<br>\n",
        "\n",
        "分割する数を指定してヒストグラムを描くには、`sns.distplot()`のカッコ内に`bins=8`と書いてあげます。"
      ]
    },
    {
      "cell_type": "code",
      "metadata": {
        "colab": {
          "base_uri": "https://localhost:8080/",
          "height": 387
        },
        "id": "OoDMZMB79Ixv",
        "outputId": "21fccdee-48bc-4fe1-e642-4c6c7e699da8"
      },
      "source": [
        "# ヒストグラムを作成する\n",
        "sns.displot(df.Age, bins=8, kde=False)"
      ],
      "execution_count": 46,
      "outputs": [
        {
          "output_type": "execute_result",
          "data": {
            "text/plain": [
              "<seaborn.axisgrid.FacetGrid at 0x7f4287c19c90>"
            ]
          },
          "metadata": {
            "tags": []
          },
          "execution_count": 46
        },
        {
          "output_type": "display_data",
          "data": {
            "image/png": "[encoded data removed]",
            "text/plain": [
              "<Figure size 360x360 with 1 Axes>"
            ]
          },
          "metadata": {
            "tags": [],
            "needs_background": "light"
          }
        }
      ]
    },
    {
      "cell_type": "markdown",
      "metadata": {
        "id": "iGDXkKDc9Ixv"
      },
      "source": [
        "そうすると、各年代ごとのボリュームが可視化できました。\n",
        "\n",
        "作成したヒストグラムを見てみると、20〜30代の人が多いですね。次いで30〜40代が多く、その次に多いのが10〜20代ということが分かります。\n",
        "\n",
        "<br>\n",
        "\n",
        "10〜20代が多いということは「家族連れの乗客が多いのではないか？」といった仮説が立ちますね。\n",
        "\n",
        "そうなると、`SibSp`(=同乗している兄弟/配偶者の数)とか`parch`(=同乗している親/子供の数)も合わせて使うことで、「家族まとめて生存したか否か」といった、新しいカラム(=特徴量)を作成できそうですね。\n",
        "\n",
        "<br>\n",
        "\n",
        "話を戻して、今回は欠損値の補完をやっていきましょう。\n",
        "\n",
        "どの数値で補完していくかですが、このグラフを見ると、年齢の中央値を使ってあげると良さそうです。\n",
        "\n",
        "<br>\n",
        "\n",
        "他にも平均値で補完する方法がありますが、グラフを見ると0〜20歳より30〜80歳が多いので、明らかに平均年齢は高くなりそうです。\n",
        "\n",
        "実際の数値を確認してみましょう。最大値・最小値に習って、以下のように書いてあげます。"
      ]
    },
    {
      "cell_type": "code",
      "metadata": {
        "colab": {
          "base_uri": "https://localhost:8080/"
        },
        "id": "ery7ik5X9Ixv",
        "outputId": "2347fb3d-13e6-4b7d-8ff1-fe53d1a1cb17"
      },
      "source": [
        "# 年齢の平均値と中央値を確認する\n",
        "print(df.Age.mean())\n",
        "print(df.Age.median())"
      ],
      "execution_count": 47,
      "outputs": [
        {
          "output_type": "stream",
          "text": [
            "29.881137667304014\n",
            "28.0\n"
          ],
          "name": "stdout"
        }
      ]
    },
    {
      "cell_type": "markdown",
      "metadata": {
        "id": "SvKswmgv9Ixv"
      },
      "source": [
        "数値で確認してみても、やはり平均年齢は中央値より高くなっています。\n",
        "\n",
        "現実的に考えると年齢情報がない乗客263人が、みんな28歳ってことは考えにくいですが、今回は練習なので中央値で補完してしまいましょう。\n",
        "\n",
        "<br>\n",
        "\n",
        "欠損値を補完するときは、`Embarked`と同様に、先に`df2.copy()`でデータフレームをコピーしておきます。\n",
        "\n",
        "あとは年齢の中央値で補完するので、先に計算して変数`age_median`に格納しておきましょう。"
      ]
    },
    {
      "cell_type": "code",
      "metadata": {
        "colab": {
          "base_uri": "https://localhost:8080/"
        },
        "id": "bK-P9cqG9Ixw",
        "outputId": "02207cb8-95be-46d2-db7c-f700a371fc7c"
      },
      "source": [
        "# df2をコピー\n",
        "df3 = df2.copy()\n",
        "\n",
        "# 年齢の中央値を計算\n",
        "age_median = df3.Age.median()\n",
        "age_median\n"
      ],
      "execution_count": 48,
      "outputs": [
        {
          "output_type": "execute_result",
          "data": {
            "text/plain": [
              "28.0"
            ]
          },
          "metadata": {
            "tags": []
          },
          "execution_count": 48
        }
      ]
    },
    {
      "cell_type": "markdown",
      "metadata": {
        "id": "Awh6YFvu9Ixw"
      },
      "source": [
        "あとは、`Embarked`と同様に、`fillna()`を使って欠損値の補完をします。"
      ]
    },
    {
      "cell_type": "code",
      "metadata": {
        "id": "I51mo1r69Ixw"
      },
      "source": [
        "# 年齢の欠損値を、計算しておいた中央値で補完する\n",
        "df3.Age = df3.Age.fillna(age_median)"
      ],
      "execution_count": 49,
      "outputs": []
    },
    {
      "cell_type": "markdown",
      "metadata": {
        "id": "og2yCLNk9Ixw"
      },
      "source": [
        "これで欠けていた乗客の年齢情報を補完できました。\n",
        "\n",
        "確認の意味を込めて、年齢の欠損値数を見てみましょう。"
      ]
    },
    {
      "cell_type": "code",
      "metadata": {
        "colab": {
          "base_uri": "https://localhost:8080/"
        },
        "id": "zmwYwS6-9Ixw",
        "outputId": "47421778-3313-40c2-8c13-2b84888d4ae6"
      },
      "source": [
        "# 年齢の欠損値の数を確認する\n",
        "df3.Age.isnull().sum()"
      ],
      "execution_count": 50,
      "outputs": [
        {
          "output_type": "execute_result",
          "data": {
            "text/plain": [
              "0"
            ]
          },
          "metadata": {
            "tags": []
          },
          "execution_count": 50
        }
      ]
    },
    {
      "cell_type": "markdown",
      "metadata": {
        "id": "mGwEk_do9Ixx"
      },
      "source": [
        "しっかり補完できました。これで、今回使いたいデータの欠損値補完はできたかと思います。\n",
        "\n",
        "あとは、機械学習で生存したか否かを予測...と言いたいところですが、まだデータ前処理でやるべきことがあります。\n",
        "\n",
        "<br>\n",
        "\n",
        "具体的にいうと、乗船した港や性別のように「中身がカテゴリーになっているデータ」に対して、数値化をしてあげる必要があります。\n",
        "\n",
        "機械学習は結局コンピューターの数値計算をするので、性別に入っている`male`や`female`の状態だと上手く機能しないんですね。\n",
        "\n",
        "*※「上手く機能しない」というか、機械学習する段階でエラーになってしまいますm(_ _)m*\n",
        "\n",
        "<br>\n",
        "\n",
        "というわけで、中身がカテゴリーになっている変数に対して、データの前処理をしていきましょう。"
      ]
    },
    {
      "cell_type": "markdown",
      "metadata": {
        "id": "5K3sM7eJ9Ixx"
      },
      "source": [
        "## カテゴリカル変数の数値変換\n",
        "\n",
        "乗船した港や性別のように、中身がカテゴリーになっているデータを「**カテゴリカル変数**」と言います。\n",
        "\n",
        "ここでは、このカテゴリカル変数を数値に変換していきましょう。\n",
        "\n",
        "<br>\n",
        "\n",
        "カテゴリカル変数の数値変換は、色々な方法があるのですが、今回は以下の2つを使っていきたいと思います。\n",
        "\n",
        "- ワンホットエンコーディング\n",
        "\n",
        "ワンホットエンコーディングは、各カテゴリーに対して別のカラムを準備して、「該当する部分には1, そうではない部分には0」を振り分ける方法です。いわゆるフラグ付ですね。\n",
        "\n",
        "たとえば、S, C, Qというカテゴリーを持つ乗船した港の情報であれば、以下のような変換になります。\n",
        "\n",
        "<table>\n",
        "    <tr>\n",
        "        <th>...</th>\n",
        "        <th>乗船した港</th>\n",
        "        <th>S</th>\n",
        "        <th>C</th>\n",
        "        <th>Q</th>\n",
        "    </tr>\n",
        "    <tr>\n",
        "        <td>...</td>\n",
        "        <td>S</td>\n",
        "        <td>1</td>\n",
        "        <td>0</td>\n",
        "        <td>0</td>\n",
        "    </tr>\n",
        "    <tr>\n",
        "        <td>...</td>\n",
        "        <td>Q</td>\n",
        "        <td>0</td>\n",
        "        <td>0</td>\n",
        "        <td>1</td>\n",
        "    </tr>\n",
        "    <tr>\n",
        "        <td>...</td>\n",
        "        <td>S</td>\n",
        "        <td>1</td>\n",
        "        <td>0</td>\n",
        "        <td>0</td>\n",
        "    </tr>\n",
        "    <tr>\n",
        "        <td>...</td>\n",
        "        <td>C</td>\n",
        "        <td>0</td>\n",
        "        <td>1</td>\n",
        "        <td>0</td>\n",
        "    </tr>\n",
        "</table>\n",
        "\n",
        "こうすることで、カテゴリカル変数の数値化が可能になります。\n",
        "\n",
        "<br>\n",
        "\n",
        "- ラベルエンコーディング\n",
        "\n",
        "もう一つの方法が、ラベルエンコーディングです。\n",
        "\n",
        "これは、各カテゴリーを純粋に数値変換する方法です。\n",
        "\n",
        "<br>\n",
        "\n",
        "ワンホット同様に、乗船した港を例に考えてみましょう。S, C, Qというカテゴリーは以下のように変換されます。\n",
        "\n",
        "<table>\n",
        "    <tr>\n",
        "        <th>...</th>\n",
        "        <th>変換前</th>\n",
        "        <th>変換後</th>\n",
        "    </tr>\n",
        "    <tr>\n",
        "        <td>...</td>\n",
        "        <td>S</td>\n",
        "        <td>0</td>\n",
        "    </tr>\n",
        "    <tr>\n",
        "        <td>...</td>\n",
        "        <td>Q</td>\n",
        "        <td>2</td>\n",
        "    </tr>\n",
        "    <tr>\n",
        "        <td>...</td>\n",
        "        <td>S</td>\n",
        "        <td>0</td>\n",
        "    </tr>\n",
        "    <tr>\n",
        "        <td>...</td>\n",
        "        <td>C</td>\n",
        "        <td>1</td>\n",
        "    </tr>\n",
        "</table>\n",
        "\n",
        "S→0, C→1, Q→2のように、ただ数値に置き換わっただけですね。\n",
        "\n",
        "<br>\n",
        "\n",
        "機械学習する前は、このようにワンホットエンコーディングを使ったり、ラベルエンコーディングを使うことで、カテゴリカル変数を数値に変換してあげましょう。"
      ]
    },
    {
      "cell_type": "markdown",
      "metadata": {
        "id": "jEzZ4XCT9Ixx"
      },
      "source": [
        "### 使用するデータの絞り込み\n",
        "\n",
        "カテゴリカル変数を数値に変換する前に、機械学習で使うカラムを絞っておきましょう。\n",
        "\n",
        "毎回大きなデータフレームを扱っていると、なんだかややこしくなってきますので。\n",
        "\n",
        "<br>\n",
        "\n",
        "カラムを選ぶときは、①使わないカラムを削除する方法と②使うカラムだけ指定する方法があります。\n",
        "\n",
        "どちらを選択しても良いですが、今回は①使わないカラムを削除する方法で進めていきましょう。\n",
        "\n",
        "<br>\n",
        "\n",
        "データフレームからカラムを削除するには、以下のように書いてあげます。"
      ]
    },
    {
      "cell_type": "code",
      "metadata": {
        "colab": {
          "base_uri": "https://localhost:8080/",
          "height": 204
        },
        "id": "_E9FFcBP9Ixy",
        "outputId": "0801ffea-cabd-466f-b4ca-61a08af1acf4"
      },
      "source": [
        "# 今回使わないカラムを削除する\n",
        "df3.head()\n",
        "df4 = df3.drop(columns=['Name', 'SibSp', 'Parch', 'Ticket', 'Fare', 'Cabin'])\n",
        "\n",
        "# 先頭5行を確認する\n",
        "df4.head()"
      ],
      "execution_count": 51,
      "outputs": [
        {
          "output_type": "execute_result",
          "data": {
            "text/html": [
              "<div>\n",
              "<style scoped>\n",
              "    .dataframe tbody tr th:only-of-type {\n",
              "        vertical-align: middle;\n",
              "    }\n",
              "\n",
              "    .dataframe tbody tr th {\n",
              "        vertical-align: top;\n",
              "    }\n",
              "\n",
              "    .dataframe thead th {\n",
              "        text-align: right;\n",
              "    }\n",
              "</style>\n",
              "<table border=\"1\" class=\"dataframe\">\n",
              "  <thead>\n",
              "    <tr style=\"text-align: right;\">\n",
              "      <th></th>\n",
              "      <th>PassengerId</th>\n",
              "      <th>Survived</th>\n",
              "      <th>Pclass</th>\n",
              "      <th>Sex</th>\n",
              "      <th>Age</th>\n",
              "      <th>Embarked</th>\n",
              "    </tr>\n",
              "  </thead>\n",
              "  <tbody>\n",
              "    <tr>\n",
              "      <th>0</th>\n",
              "      <td>1</td>\n",
              "      <td>0.0</td>\n",
              "      <td>3</td>\n",
              "      <td>male</td>\n",
              "      <td>22.0</td>\n",
              "      <td>S</td>\n",
              "    </tr>\n",
              "    <tr>\n",
              "      <th>1</th>\n",
              "      <td>2</td>\n",
              "      <td>1.0</td>\n",
              "      <td>1</td>\n",
              "      <td>female</td>\n",
              "      <td>38.0</td>\n",
              "      <td>C</td>\n",
              "    </tr>\n",
              "    <tr>\n",
              "      <th>2</th>\n",
              "      <td>3</td>\n",
              "      <td>1.0</td>\n",
              "      <td>3</td>\n",
              "      <td>female</td>\n",
              "      <td>26.0</td>\n",
              "      <td>S</td>\n",
              "    </tr>\n",
              "    <tr>\n",
              "      <th>3</th>\n",
              "      <td>4</td>\n",
              "      <td>1.0</td>\n",
              "      <td>1</td>\n",
              "      <td>female</td>\n",
              "      <td>35.0</td>\n",
              "      <td>S</td>\n",
              "    </tr>\n",
              "    <tr>\n",
              "      <th>4</th>\n",
              "      <td>5</td>\n",
              "      <td>0.0</td>\n",
              "      <td>3</td>\n",
              "      <td>male</td>\n",
              "      <td>35.0</td>\n",
              "      <td>S</td>\n",
              "    </tr>\n",
              "  </tbody>\n",
              "</table>\n",
              "</div>"
            ],
            "text/plain": [
              "   PassengerId  Survived  Pclass     Sex   Age Embarked\n",
              "0            1       0.0       3    male  22.0        S\n",
              "1            2       1.0       1  female  38.0        C\n",
              "2            3       1.0       3  female  26.0        S\n",
              "3            4       1.0       1  female  35.0        S\n",
              "4            5       0.0       3    male  35.0        S"
            ]
          },
          "metadata": {
            "tags": []
          },
          "execution_count": 51
        }
      ]
    },
    {
      "cell_type": "markdown",
      "metadata": {
        "id": "g484kNyx9Ixy"
      },
      "source": [
        "このように、データの絞り込みができました。\n",
        "\n",
        "ここまでシンプルにすると、あとは性別(=`Sex`)と乗船した港(=`Embarked`)を数値に変換してあげれば、キレイなデータになりそうですね。"
      ]
    },
    {
      "cell_type": "markdown",
      "metadata": {
        "id": "MVm0At4R9Ixy"
      },
      "source": [
        "### カテゴリカル変数1 : 乗船した港の数値変換\n",
        "\n",
        "まずは乗船した港から数値変換していきましょう。\n",
        "\n",
        "このカラムを数値変換するには、ワンホットエンコーディングを使ってあげます。\n",
        "\n",
        "<br>\n",
        "\n",
        "データフレームの1カラムをワンホットエンコーディングするのは非常に簡単で、`Pandas`の`get_dummies()`を使ってあげるだけでカテゴリカル変数を数値に変換できます。"
      ]
    },
    {
      "cell_type": "code",
      "metadata": {
        "colab": {
          "base_uri": "https://localhost:8080/",
          "height": 419
        },
        "id": "U_-M-GDb9Ixy",
        "outputId": "fdd2c259-6049-4797-accc-66a5571f06b8"
      },
      "source": [
        "# まずはワンホットエンコーディングしてみる\n",
        "pd.get_dummies(df4['Embarked'])"
      ],
      "execution_count": 52,
      "outputs": [
        {
          "output_type": "execute_result",
          "data": {
            "text/html": [
              "<div>\n",
              "<style scoped>\n",
              "    .dataframe tbody tr th:only-of-type {\n",
              "        vertical-align: middle;\n",
              "    }\n",
              "\n",
              "    .dataframe tbody tr th {\n",
              "        vertical-align: top;\n",
              "    }\n",
              "\n",
              "    .dataframe thead th {\n",
              "        text-align: right;\n",
              "    }\n",
              "</style>\n",
              "<table border=\"1\" class=\"dataframe\">\n",
              "  <thead>\n",
              "    <tr style=\"text-align: right;\">\n",
              "      <th></th>\n",
              "      <th>C</th>\n",
              "      <th>Q</th>\n",
              "      <th>S</th>\n",
              "    </tr>\n",
              "  </thead>\n",
              "  <tbody>\n",
              "    <tr>\n",
              "      <th>0</th>\n",
              "      <td>0</td>\n",
              "      <td>0</td>\n",
              "      <td>1</td>\n",
              "    </tr>\n",
              "    <tr>\n",
              "      <th>1</th>\n",
              "      <td>1</td>\n",
              "      <td>0</td>\n",
              "      <td>0</td>\n",
              "    </tr>\n",
              "    <tr>\n",
              "      <th>2</th>\n",
              "      <td>0</td>\n",
              "      <td>0</td>\n",
              "      <td>1</td>\n",
              "    </tr>\n",
              "    <tr>\n",
              "      <th>3</th>\n",
              "      <td>0</td>\n",
              "      <td>0</td>\n",
              "      <td>1</td>\n",
              "    </tr>\n",
              "    <tr>\n",
              "      <th>4</th>\n",
              "      <td>0</td>\n",
              "      <td>0</td>\n",
              "      <td>1</td>\n",
              "    </tr>\n",
              "    <tr>\n",
              "      <th>...</th>\n",
              "      <td>...</td>\n",
              "      <td>...</td>\n",
              "      <td>...</td>\n",
              "    </tr>\n",
              "    <tr>\n",
              "      <th>1304</th>\n",
              "      <td>0</td>\n",
              "      <td>0</td>\n",
              "      <td>1</td>\n",
              "    </tr>\n",
              "    <tr>\n",
              "      <th>1305</th>\n",
              "      <td>1</td>\n",
              "      <td>0</td>\n",
              "      <td>0</td>\n",
              "    </tr>\n",
              "    <tr>\n",
              "      <th>1306</th>\n",
              "      <td>0</td>\n",
              "      <td>0</td>\n",
              "      <td>1</td>\n",
              "    </tr>\n",
              "    <tr>\n",
              "      <th>1307</th>\n",
              "      <td>0</td>\n",
              "      <td>0</td>\n",
              "      <td>1</td>\n",
              "    </tr>\n",
              "    <tr>\n",
              "      <th>1308</th>\n",
              "      <td>1</td>\n",
              "      <td>0</td>\n",
              "      <td>0</td>\n",
              "    </tr>\n",
              "  </tbody>\n",
              "</table>\n",
              "<p>1309 rows × 3 columns</p>\n",
              "</div>"
            ],
            "text/plain": [
              "      C  Q  S\n",
              "0     0  0  1\n",
              "1     1  0  0\n",
              "2     0  0  1\n",
              "3     0  0  1\n",
              "4     0  0  1\n",
              "...  .. .. ..\n",
              "1304  0  0  1\n",
              "1305  1  0  0\n",
              "1306  0  0  1\n",
              "1307  0  0  1\n",
              "1308  1  0  0\n",
              "\n",
              "[1309 rows x 3 columns]"
            ]
          },
          "metadata": {
            "tags": []
          },
          "execution_count": 52
        }
      ]
    },
    {
      "cell_type": "markdown",
      "metadata": {
        "id": "AXG646N_9Ixy"
      },
      "source": [
        "`get_dummies()`を使うことで、先ほど例に出したような数値変換が、全1309行にできました。\n",
        "\n",
        "そうしたら元のデータフレームに連結していきたいので、いったん変数に格納してあげましょう。\n",
        "\n",
        "<br>\n",
        "\n",
        "また、今回の変換で作成されたカラムは、`C`とか`Q`だけだと意味不明です。\n",
        "\n",
        "なので、追加で引数`prefix=\"Embarked\"`を付けてあげることで、乗船した港のワンホットエンコーディングであることを明確にしておきましょう。\n",
        "\n",
        "*※これは機械学習で問題があるというより、レポーティングの問題ですね！突然Cとか出てきても、このデータを知らない人からしたら、まったく持って意味不明です！*"
      ]
    },
    {
      "cell_type": "code",
      "metadata": {
        "colab": {
          "base_uri": "https://localhost:8080/",
          "height": 419
        },
        "id": "V9pd6sgW9Ixz",
        "outputId": "db3df85b-c934-467e-d005-4a0c8407acec"
      },
      "source": [
        "# ワンホットの結果を変数tmp_embarkedに格納する\n",
        "tmp_embarked = pd.get_dummies(df4['Embarked'], prefix=\"Embarked\")\n",
        "tmp_embarked"
      ],
      "execution_count": 53,
      "outputs": [
        {
          "output_type": "execute_result",
          "data": {
            "text/html": [
              "<div>\n",
              "<style scoped>\n",
              "    .dataframe tbody tr th:only-of-type {\n",
              "        vertical-align: middle;\n",
              "    }\n",
              "\n",
              "    .dataframe tbody tr th {\n",
              "        vertical-align: top;\n",
              "    }\n",
              "\n",
              "    .dataframe thead th {\n",
              "        text-align: right;\n",
              "    }\n",
              "</style>\n",
              "<table border=\"1\" class=\"dataframe\">\n",
              "  <thead>\n",
              "    <tr style=\"text-align: right;\">\n",
              "      <th></th>\n",
              "      <th>Embarked_C</th>\n",
              "      <th>Embarked_Q</th>\n",
              "      <th>Embarked_S</th>\n",
              "    </tr>\n",
              "  </thead>\n",
              "  <tbody>\n",
              "    <tr>\n",
              "      <th>0</th>\n",
              "      <td>0</td>\n",
              "      <td>0</td>\n",
              "      <td>1</td>\n",
              "    </tr>\n",
              "    <tr>\n",
              "      <th>1</th>\n",
              "      <td>1</td>\n",
              "      <td>0</td>\n",
              "      <td>0</td>\n",
              "    </tr>\n",
              "    <tr>\n",
              "      <th>2</th>\n",
              "      <td>0</td>\n",
              "      <td>0</td>\n",
              "      <td>1</td>\n",
              "    </tr>\n",
              "    <tr>\n",
              "      <th>3</th>\n",
              "      <td>0</td>\n",
              "      <td>0</td>\n",
              "      <td>1</td>\n",
              "    </tr>\n",
              "    <tr>\n",
              "      <th>4</th>\n",
              "      <td>0</td>\n",
              "      <td>0</td>\n",
              "      <td>1</td>\n",
              "    </tr>\n",
              "    <tr>\n",
              "      <th>...</th>\n",
              "      <td>...</td>\n",
              "      <td>...</td>\n",
              "      <td>...</td>\n",
              "    </tr>\n",
              "    <tr>\n",
              "      <th>1304</th>\n",
              "      <td>0</td>\n",
              "      <td>0</td>\n",
              "      <td>1</td>\n",
              "    </tr>\n",
              "    <tr>\n",
              "      <th>1305</th>\n",
              "      <td>1</td>\n",
              "      <td>0</td>\n",
              "      <td>0</td>\n",
              "    </tr>\n",
              "    <tr>\n",
              "      <th>1306</th>\n",
              "      <td>0</td>\n",
              "      <td>0</td>\n",
              "      <td>1</td>\n",
              "    </tr>\n",
              "    <tr>\n",
              "      <th>1307</th>\n",
              "      <td>0</td>\n",
              "      <td>0</td>\n",
              "      <td>1</td>\n",
              "    </tr>\n",
              "    <tr>\n",
              "      <th>1308</th>\n",
              "      <td>1</td>\n",
              "      <td>0</td>\n",
              "      <td>0</td>\n",
              "    </tr>\n",
              "  </tbody>\n",
              "</table>\n",
              "<p>1309 rows × 3 columns</p>\n",
              "</div>"
            ],
            "text/plain": [
              "      Embarked_C  Embarked_Q  Embarked_S\n",
              "0              0           0           1\n",
              "1              1           0           0\n",
              "2              0           0           1\n",
              "3              0           0           1\n",
              "4              0           0           1\n",
              "...          ...         ...         ...\n",
              "1304           0           0           1\n",
              "1305           1           0           0\n",
              "1306           0           0           1\n",
              "1307           0           0           1\n",
              "1308           1           0           0\n",
              "\n",
              "[1309 rows x 3 columns]"
            ]
          },
          "metadata": {
            "tags": []
          },
          "execution_count": 53
        }
      ]
    },
    {
      "cell_type": "markdown",
      "metadata": {
        "id": "9QhthBRP9Ixz"
      },
      "source": [
        "新たな引数`prefix`を渡すことで、元々のカラム名に各カテゴリーが書かれた形になりました。分かりやすいですね。\n",
        "\n",
        "あとは、元のデータフレームに連結してあげますが、それには`Pandas`の`concat()`を使います。\n",
        "\n",
        "<br>\n",
        "\n",
        "学習データとテストデータのように縦に結合したときも使いましたが、今回のように横に連結するときも使えます。"
      ]
    },
    {
      "cell_type": "code",
      "metadata": {
        "id": "CHcRglvl9Ixz"
      },
      "source": [
        "# 元のデータフレームにワンホット結果を連結して、変数df5に格納する\n",
        "df5 = pd.concat([df4, tmp_embarked], axis=1).drop(columns=['Embarked'])"
      ],
      "execution_count": 54,
      "outputs": []
    },
    {
      "cell_type": "markdown",
      "metadata": {
        "id": "Hcm1_WEB9Ixz"
      },
      "source": [
        "これで乗船した港の情報を数値変換できました。この要領で性別の数値変換もやっていきましょう。"
      ]
    },
    {
      "cell_type": "markdown",
      "metadata": {
        "id": "kyvRQloN9Ixz"
      },
      "source": [
        "### カテゴリカル変数の変換2 : 性別\n",
        "\n",
        "性別の変換は、ラベルエンコーディングを使っていきましょう。\n",
        "\n",
        "というのも、性別は2種類のデータしか入っていないので、ワンホットエンコーディングしても、結局2つのカラムは同じ意味になります。\n",
        "\n",
        "具体的に、というところで、実際に性別のカラムでワンホットエンコーディングしてみましょう。"
      ]
    },
    {
      "cell_type": "code",
      "metadata": {
        "colab": {
          "base_uri": "https://localhost:8080/"
        },
        "id": "rphmdotl9Ix0",
        "outputId": "96878f29-c258-4383-b47e-56acd79ff30e"
      },
      "source": [
        "# 性別をワンホットエンコーディングする\n",
        "pd.get_dummies(df5['Sex']).head"
      ],
      "execution_count": 55,
      "outputs": [
        {
          "output_type": "execute_result",
          "data": {
            "text/plain": [
              "<bound method NDFrame.head of       female  male\n",
              "0          0     1\n",
              "1          1     0\n",
              "2          1     0\n",
              "3          1     0\n",
              "4          0     1\n",
              "...      ...   ...\n",
              "1304       0     1\n",
              "1305       1     0\n",
              "1306       0     1\n",
              "1307       0     1\n",
              "1308       0     1\n",
              "\n",
              "[1309 rows x 2 columns]>"
            ]
          },
          "metadata": {
            "tags": []
          },
          "execution_count": 55
        }
      ]
    },
    {
      "cell_type": "markdown",
      "metadata": {
        "id": "2zS2wYwo9Ix0"
      },
      "source": [
        "ワンホットした結果を見てみると分かりますが、`female`が0のとき`male`が1になり、`female`が1のとき`male`は0になっています。\n",
        "\n",
        "このような場合「男性であるか否か」が分かれば「女性であるか否か」も同時に分かるので、2つのカラムは必要ないんですね。\n",
        "\n",
        "<br>\n",
        "\n",
        "ということで、性別のカラムではラベルエンコーディングを使っていきます。\n",
        "\n",
        "ラベルエンコーディングする方法ですが、今回の場合は以下のように書くことで数値変換できます。"
      ]
    },
    {
      "cell_type": "code",
      "metadata": {
        "id": "RkvayyUx9Ix0"
      },
      "source": [
        "# ラベルエンコーディングした結果を反映する\n",
        "df5['Sex'] = pd.get_dummies(df5['Sex'], drop_first=True)"
      ],
      "execution_count": 58,
      "outputs": []
    },
    {
      "cell_type": "code",
      "metadata": {
        "colab": {
          "base_uri": "https://localhost:8080/",
          "height": 204
        },
        "id": "RnBwaEDZ9Ix0",
        "outputId": "38bedfe0-5b12-4c74-c546-5295f8e97209"
      },
      "source": [
        "# データフレームの先頭5行を確認する\n",
        "df5.head()"
      ],
      "execution_count": 59,
      "outputs": [
        {
          "output_type": "execute_result",
          "data": {
            "text/html": [
              "<div>\n",
              "<style scoped>\n",
              "    .dataframe tbody tr th:only-of-type {\n",
              "        vertical-align: middle;\n",
              "    }\n",
              "\n",
              "    .dataframe tbody tr th {\n",
              "        vertical-align: top;\n",
              "    }\n",
              "\n",
              "    .dataframe thead th {\n",
              "        text-align: right;\n",
              "    }\n",
              "</style>\n",
              "<table border=\"1\" class=\"dataframe\">\n",
              "  <thead>\n",
              "    <tr style=\"text-align: right;\">\n",
              "      <th></th>\n",
              "      <th>PassengerId</th>\n",
              "      <th>Survived</th>\n",
              "      <th>Pclass</th>\n",
              "      <th>Sex</th>\n",
              "      <th>Age</th>\n",
              "      <th>Embarked_C</th>\n",
              "      <th>Embarked_Q</th>\n",
              "      <th>Embarked_S</th>\n",
              "    </tr>\n",
              "  </thead>\n",
              "  <tbody>\n",
              "    <tr>\n",
              "      <th>0</th>\n",
              "      <td>1</td>\n",
              "      <td>0.0</td>\n",
              "      <td>3</td>\n",
              "      <td>1</td>\n",
              "      <td>22.0</td>\n",
              "      <td>0</td>\n",
              "      <td>0</td>\n",
              "      <td>1</td>\n",
              "    </tr>\n",
              "    <tr>\n",
              "      <th>1</th>\n",
              "      <td>2</td>\n",
              "      <td>1.0</td>\n",
              "      <td>1</td>\n",
              "      <td>0</td>\n",
              "      <td>38.0</td>\n",
              "      <td>1</td>\n",
              "      <td>0</td>\n",
              "      <td>0</td>\n",
              "    </tr>\n",
              "    <tr>\n",
              "      <th>2</th>\n",
              "      <td>3</td>\n",
              "      <td>1.0</td>\n",
              "      <td>3</td>\n",
              "      <td>0</td>\n",
              "      <td>26.0</td>\n",
              "      <td>0</td>\n",
              "      <td>0</td>\n",
              "      <td>1</td>\n",
              "    </tr>\n",
              "    <tr>\n",
              "      <th>3</th>\n",
              "      <td>4</td>\n",
              "      <td>1.0</td>\n",
              "      <td>1</td>\n",
              "      <td>0</td>\n",
              "      <td>35.0</td>\n",
              "      <td>0</td>\n",
              "      <td>0</td>\n",
              "      <td>1</td>\n",
              "    </tr>\n",
              "    <tr>\n",
              "      <th>4</th>\n",
              "      <td>5</td>\n",
              "      <td>0.0</td>\n",
              "      <td>3</td>\n",
              "      <td>1</td>\n",
              "      <td>35.0</td>\n",
              "      <td>0</td>\n",
              "      <td>0</td>\n",
              "      <td>1</td>\n",
              "    </tr>\n",
              "  </tbody>\n",
              "</table>\n",
              "</div>"
            ],
            "text/plain": [
              "   PassengerId  Survived  Pclass  Sex   Age  Embarked_C  Embarked_Q  Embarked_S\n",
              "0            1       0.0       3    1  22.0           0           0           1\n",
              "1            2       1.0       1    0  38.0           1           0           0\n",
              "2            3       1.0       3    0  26.0           0           0           1\n",
              "3            4       1.0       1    0  35.0           0           0           1\n",
              "4            5       0.0       3    1  35.0           0           0           1"
            ]
          },
          "metadata": {
            "tags": []
          },
          "execution_count": 59
        }
      ]
    },
    {
      "cell_type": "markdown",
      "metadata": {
        "id": "DU686uq19Ix0"
      },
      "source": [
        "元のデータフレームと比較すると、男性であれば1、そうでなく女性であれば0ということになります。\n",
        "\n",
        "これでカテゴリカル変数の変換も完了しました。\n",
        "\n",
        "<br>\n",
        "\n",
        "データの前処理ができたので、あとは機械学習にかけて「生存するか否か」を予測してみましょう。"
      ]
    },
    {
      "cell_type": "markdown",
      "metadata": {
        "id": "2rGCPByM9Ix0"
      },
      "source": [
        "## 学習用データとテストデータに分割する\n",
        "\n",
        "機械学習を使って生存するか否かを予測するには、「学習で使うデータ」と「生存するか否かを当てたい乗客データ」に分割しておく必要があります。\n",
        "\n",
        "それぞれのデータのことを正確には、以下のように呼びます。\n",
        "\n",
        "- 学習で使うデータ : 学習データ・訓練データ\n",
        "- 生存するか否かを当てたい乗客データ : テストデータ\n",
        "\n",
        "タイタニック号の問題であれば、最初に保存したファイル名が`train.csv`と`test.csv`になっていましたね。\n",
        "\n",
        "<br>\n",
        "\n",
        "今回は、データの可視化や前処理でこれらを連結して処理していたので、もう一度分割してあげましょう。\n",
        "\n",
        "<br>\n",
        "\n",
        "今は難しいことを考えずに、流れをおさえておけば大丈夫です。\n",
        "\n",
        "機械学習をするときは、「学習データとテストデータに分けておくんだ」と覚えておきましょう。\n",
        "\n",
        "<br>\n",
        "\n",
        "それではデータの分割をしていくのですが、そのためには「`Survived`にデータが入っているか否か」で判断すると良いですよね。\n",
        "\n",
        "`Survived`が空になっていることを判定するには、`df5.Servived.isnull()`のように書いてあげます。\n",
        "\n",
        "このことを応用して、学習データとテストデータの分割は、以下のように書けます。"
      ]
    },
    {
      "cell_type": "code",
      "metadata": {
        "colab": {
          "base_uri": "https://localhost:8080/",
          "height": 204
        },
        "id": "w3qa3YE59Ix1",
        "outputId": "f7f12200-036e-4ec2-880a-6355588ed333"
      },
      "source": [
        "# 学習データに分割した結果を変数trainに格納する\n",
        "train = df5[~df5.Survived.isnull()]\n",
        "\n",
        "# テストデータに分割した結果を変数testに格納する\n",
        "test = df5[df5.Survived.isnull()]\n",
        "\n",
        "# テストデータの先頭5行を確認する\n",
        "test.head()\n"
      ],
      "execution_count": 66,
      "outputs": [
        {
          "output_type": "execute_result",
          "data": {
            "text/html": [
              "<div>\n",
              "<style scoped>\n",
              "    .dataframe tbody tr th:only-of-type {\n",
              "        vertical-align: middle;\n",
              "    }\n",
              "\n",
              "    .dataframe tbody tr th {\n",
              "        vertical-align: top;\n",
              "    }\n",
              "\n",
              "    .dataframe thead th {\n",
              "        text-align: right;\n",
              "    }\n",
              "</style>\n",
              "<table border=\"1\" class=\"dataframe\">\n",
              "  <thead>\n",
              "    <tr style=\"text-align: right;\">\n",
              "      <th></th>\n",
              "      <th>PassengerId</th>\n",
              "      <th>Survived</th>\n",
              "      <th>Pclass</th>\n",
              "      <th>Sex</th>\n",
              "      <th>Age</th>\n",
              "      <th>Embarked_C</th>\n",
              "      <th>Embarked_Q</th>\n",
              "      <th>Embarked_S</th>\n",
              "    </tr>\n",
              "  </thead>\n",
              "  <tbody>\n",
              "    <tr>\n",
              "      <th>891</th>\n",
              "      <td>892</td>\n",
              "      <td>NaN</td>\n",
              "      <td>3</td>\n",
              "      <td>1</td>\n",
              "      <td>34.5</td>\n",
              "      <td>0</td>\n",
              "      <td>1</td>\n",
              "      <td>0</td>\n",
              "    </tr>\n",
              "    <tr>\n",
              "      <th>892</th>\n",
              "      <td>893</td>\n",
              "      <td>NaN</td>\n",
              "      <td>3</td>\n",
              "      <td>0</td>\n",
              "      <td>47.0</td>\n",
              "      <td>0</td>\n",
              "      <td>0</td>\n",
              "      <td>1</td>\n",
              "    </tr>\n",
              "    <tr>\n",
              "      <th>893</th>\n",
              "      <td>894</td>\n",
              "      <td>NaN</td>\n",
              "      <td>2</td>\n",
              "      <td>1</td>\n",
              "      <td>62.0</td>\n",
              "      <td>0</td>\n",
              "      <td>1</td>\n",
              "      <td>0</td>\n",
              "    </tr>\n",
              "    <tr>\n",
              "      <th>894</th>\n",
              "      <td>895</td>\n",
              "      <td>NaN</td>\n",
              "      <td>3</td>\n",
              "      <td>1</td>\n",
              "      <td>27.0</td>\n",
              "      <td>0</td>\n",
              "      <td>0</td>\n",
              "      <td>1</td>\n",
              "    </tr>\n",
              "    <tr>\n",
              "      <th>895</th>\n",
              "      <td>896</td>\n",
              "      <td>NaN</td>\n",
              "      <td>3</td>\n",
              "      <td>0</td>\n",
              "      <td>22.0</td>\n",
              "      <td>0</td>\n",
              "      <td>0</td>\n",
              "      <td>1</td>\n",
              "    </tr>\n",
              "  </tbody>\n",
              "</table>\n",
              "</div>"
            ],
            "text/plain": [
              "     PassengerId  Survived  Pclass  ...  Embarked_C  Embarked_Q  Embarked_S\n",
              "891          892       NaN       3  ...           0           1           0\n",
              "892          893       NaN       3  ...           0           0           1\n",
              "893          894       NaN       2  ...           0           1           0\n",
              "894          895       NaN       3  ...           0           0           1\n",
              "895          896       NaN       3  ...           0           0           1\n",
              "\n",
              "[5 rows x 8 columns]"
            ]
          },
          "metadata": {
            "tags": []
          },
          "execution_count": 66
        }
      ]
    },
    {
      "cell_type": "markdown",
      "metadata": {
        "id": "b9dzDaGm9Ix1"
      },
      "source": [
        "データを覗いてみると、しっかり分割できていることが分かりました。\n",
        "\n",
        "テストデータに入っている`Survived`は不要なので、このタイミングで削除しておきます。"
      ]
    },
    {
      "cell_type": "code",
      "metadata": {
        "colab": {
          "base_uri": "https://localhost:8080/",
          "height": 204
        },
        "id": "CLEzTZVk9Ix1",
        "outputId": "432d12b2-e9a6-4902-bfa3-493610d81888"
      },
      "source": [
        "# Survivedを削除\n",
        "test = test.drop(columns=['Survived'])\n",
        "test.head()"
      ],
      "execution_count": 67,
      "outputs": [
        {
          "output_type": "execute_result",
          "data": {
            "text/html": [
              "<div>\n",
              "<style scoped>\n",
              "    .dataframe tbody tr th:only-of-type {\n",
              "        vertical-align: middle;\n",
              "    }\n",
              "\n",
              "    .dataframe tbody tr th {\n",
              "        vertical-align: top;\n",
              "    }\n",
              "\n",
              "    .dataframe thead th {\n",
              "        text-align: right;\n",
              "    }\n",
              "</style>\n",
              "<table border=\"1\" class=\"dataframe\">\n",
              "  <thead>\n",
              "    <tr style=\"text-align: right;\">\n",
              "      <th></th>\n",
              "      <th>PassengerId</th>\n",
              "      <th>Pclass</th>\n",
              "      <th>Sex</th>\n",
              "      <th>Age</th>\n",
              "      <th>Embarked_C</th>\n",
              "      <th>Embarked_Q</th>\n",
              "      <th>Embarked_S</th>\n",
              "    </tr>\n",
              "  </thead>\n",
              "  <tbody>\n",
              "    <tr>\n",
              "      <th>891</th>\n",
              "      <td>892</td>\n",
              "      <td>3</td>\n",
              "      <td>1</td>\n",
              "      <td>34.5</td>\n",
              "      <td>0</td>\n",
              "      <td>1</td>\n",
              "      <td>0</td>\n",
              "    </tr>\n",
              "    <tr>\n",
              "      <th>892</th>\n",
              "      <td>893</td>\n",
              "      <td>3</td>\n",
              "      <td>0</td>\n",
              "      <td>47.0</td>\n",
              "      <td>0</td>\n",
              "      <td>0</td>\n",
              "      <td>1</td>\n",
              "    </tr>\n",
              "    <tr>\n",
              "      <th>893</th>\n",
              "      <td>894</td>\n",
              "      <td>2</td>\n",
              "      <td>1</td>\n",
              "      <td>62.0</td>\n",
              "      <td>0</td>\n",
              "      <td>1</td>\n",
              "      <td>0</td>\n",
              "    </tr>\n",
              "    <tr>\n",
              "      <th>894</th>\n",
              "      <td>895</td>\n",
              "      <td>3</td>\n",
              "      <td>1</td>\n",
              "      <td>27.0</td>\n",
              "      <td>0</td>\n",
              "      <td>0</td>\n",
              "      <td>1</td>\n",
              "    </tr>\n",
              "    <tr>\n",
              "      <th>895</th>\n",
              "      <td>896</td>\n",
              "      <td>3</td>\n",
              "      <td>0</td>\n",
              "      <td>22.0</td>\n",
              "      <td>0</td>\n",
              "      <td>0</td>\n",
              "      <td>1</td>\n",
              "    </tr>\n",
              "  </tbody>\n",
              "</table>\n",
              "</div>"
            ],
            "text/plain": [
              "     PassengerId  Pclass  Sex   Age  Embarked_C  Embarked_Q  Embarked_S\n",
              "891          892       3    1  34.5           0           1           0\n",
              "892          893       3    0  47.0           0           0           1\n",
              "893          894       2    1  62.0           0           1           0\n",
              "894          895       3    1  27.0           0           0           1\n",
              "895          896       3    0  22.0           0           0           1"
            ]
          },
          "metadata": {
            "tags": []
          },
          "execution_count": 67
        }
      ]
    },
    {
      "cell_type": "markdown",
      "metadata": {
        "id": "pGorr0od9Ix1"
      },
      "source": [
        "あとは、学習データを「学習に使うカラム(=特徴量)」と「正解(=目的変数)」に分割してあげましょう。\n",
        "\n",
        "特徴量と正解を分割する理由は、機械学習が「特徴量から得た情報と、正解の\"関係性\"を学習して記憶しておく」からです。\n",
        "\n",
        "逆に正解も与えてしまったら、それはただのカンニングになってしまいます。\n",
        "\n",
        "<br>\n",
        "\n",
        "高校の期末試験で最初から問題と答えをもらっていたら、みんな満点になってしまいますよね。それと原理は同じです。\n",
        "\n",
        "それでは面白くないですし、そもそも試験をする意味がなくなってしまいます。機械学習も同じで、答えを知っていたら実施する意味がなくなってしまうので、しっかり特徴量と正解を分割しておきましょう。\n",
        "\n",
        "<br>\n",
        "\n",
        "学習で使うカラムは、元のデータ`train`から`Survived`を削除すれば良いですし、正解は`Survived`だけ取り出せば良いですね！"
      ]
    },
    {
      "cell_type": "code",
      "metadata": {
        "id": "jkDr6ad39Ix1"
      },
      "source": [
        "# 正解をy_trainに格納する\n",
        "y_train = train.Survived\n",
        "\n",
        "# 特徴量をX_trainに格納する\n",
        "X_train = train.drop(columns=['Survived'])"
      ],
      "execution_count": 68,
      "outputs": []
    },
    {
      "cell_type": "markdown",
      "metadata": {
        "id": "Fb2_pCJD9Ix2"
      },
      "source": [
        "これで学習データの準備も完了しました。分割した結果を確認してみましょう。"
      ]
    },
    {
      "cell_type": "code",
      "metadata": {
        "colab": {
          "base_uri": "https://localhost:8080/",
          "height": 204
        },
        "id": "evJWD6vr9Ix2",
        "outputId": "7d300d2a-70a7-4910-b4fa-6af4e70cfe6f"
      },
      "source": [
        "# 特徴量を確認\n",
        "X_train.head()"
      ],
      "execution_count": 69,
      "outputs": [
        {
          "output_type": "execute_result",
          "data": {
            "text/html": [
              "<div>\n",
              "<style scoped>\n",
              "    .dataframe tbody tr th:only-of-type {\n",
              "        vertical-align: middle;\n",
              "    }\n",
              "\n",
              "    .dataframe tbody tr th {\n",
              "        vertical-align: top;\n",
              "    }\n",
              "\n",
              "    .dataframe thead th {\n",
              "        text-align: right;\n",
              "    }\n",
              "</style>\n",
              "<table border=\"1\" class=\"dataframe\">\n",
              "  <thead>\n",
              "    <tr style=\"text-align: right;\">\n",
              "      <th></th>\n",
              "      <th>PassengerId</th>\n",
              "      <th>Pclass</th>\n",
              "      <th>Sex</th>\n",
              "      <th>Age</th>\n",
              "      <th>Embarked_C</th>\n",
              "      <th>Embarked_Q</th>\n",
              "      <th>Embarked_S</th>\n",
              "    </tr>\n",
              "  </thead>\n",
              "  <tbody>\n",
              "    <tr>\n",
              "      <th>0</th>\n",
              "      <td>1</td>\n",
              "      <td>3</td>\n",
              "      <td>1</td>\n",
              "      <td>22.0</td>\n",
              "      <td>0</td>\n",
              "      <td>0</td>\n",
              "      <td>1</td>\n",
              "    </tr>\n",
              "    <tr>\n",
              "      <th>1</th>\n",
              "      <td>2</td>\n",
              "      <td>1</td>\n",
              "      <td>0</td>\n",
              "      <td>38.0</td>\n",
              "      <td>1</td>\n",
              "      <td>0</td>\n",
              "      <td>0</td>\n",
              "    </tr>\n",
              "    <tr>\n",
              "      <th>2</th>\n",
              "      <td>3</td>\n",
              "      <td>3</td>\n",
              "      <td>0</td>\n",
              "      <td>26.0</td>\n",
              "      <td>0</td>\n",
              "      <td>0</td>\n",
              "      <td>1</td>\n",
              "    </tr>\n",
              "    <tr>\n",
              "      <th>3</th>\n",
              "      <td>4</td>\n",
              "      <td>1</td>\n",
              "      <td>0</td>\n",
              "      <td>35.0</td>\n",
              "      <td>0</td>\n",
              "      <td>0</td>\n",
              "      <td>1</td>\n",
              "    </tr>\n",
              "    <tr>\n",
              "      <th>4</th>\n",
              "      <td>5</td>\n",
              "      <td>3</td>\n",
              "      <td>1</td>\n",
              "      <td>35.0</td>\n",
              "      <td>0</td>\n",
              "      <td>0</td>\n",
              "      <td>1</td>\n",
              "    </tr>\n",
              "  </tbody>\n",
              "</table>\n",
              "</div>"
            ],
            "text/plain": [
              "   PassengerId  Pclass  Sex   Age  Embarked_C  Embarked_Q  Embarked_S\n",
              "0            1       3    1  22.0           0           0           1\n",
              "1            2       1    0  38.0           1           0           0\n",
              "2            3       3    0  26.0           0           0           1\n",
              "3            4       1    0  35.0           0           0           1\n",
              "4            5       3    1  35.0           0           0           1"
            ]
          },
          "metadata": {
            "tags": []
          },
          "execution_count": 69
        }
      ]
    },
    {
      "cell_type": "code",
      "metadata": {
        "colab": {
          "base_uri": "https://localhost:8080/"
        },
        "id": "5WxvZaSs9Ix2",
        "outputId": "68f7035a-0858-4b92-f914-32cf33aaf8f4"
      },
      "source": [
        "# 正解を確認\n",
        "y_train.heaｄ()"
      ],
      "execution_count": 70,
      "outputs": [
        {
          "output_type": "execute_result",
          "data": {
            "text/plain": [
              "0    0.0\n",
              "1    1.0\n",
              "2    1.0\n",
              "3    1.0\n",
              "4    0.0\n",
              "Name: Survived, dtype: float64"
            ]
          },
          "metadata": {
            "tags": []
          },
          "execution_count": 70
        }
      ]
    },
    {
      "cell_type": "markdown",
      "metadata": {
        "id": "O6Eg7y719Ix2"
      },
      "source": [
        "これで学習データとテストデータの分割が完了しました。"
      ]
    },
    {
      "cell_type": "markdown",
      "metadata": {
        "id": "hlXYe4t69Ix2"
      },
      "source": [
        "# 機械学習を使って予測する\n",
        "\n",
        "それでは機械学習を使って、タイタニック号の乗客が「生存するか否か」を予測していきましょう。\n",
        "\n",
        "機械学習は色々なアルゴリズム・モデルがあります。今回は簡単のために、決定木モデルを使って予測していきたいと思います。\n",
        "\n",
        "決定木は、以下の画像のように、条件に応じて分岐をすることで予測する機械学習モデルです。\n",
        "\n",
        "<img src=\"/content/drive/MyDrive/Data Science/images/01.png\"></img>\n",
        "\n",
        "»参考記事 : https://qiita.com/3000manJPY/items/ef7495960f472ec14377\n",
        "\n",
        "Pythonで決定木を使うには、新しいライブラリ`Scikit-learn`をインポートする必要があります。\n",
        "\n",
        "今回は決定木モデルの作成以外で`Scikit-learn`を使わないので、以下のように書いてライブラリをインポートしていきましょう。"
      ]
    },
    {
      "cell_type": "code",
      "metadata": {
        "id": "J1HVVess9Ix2"
      },
      "source": [
        "# ライブラリのインポート\n",
        "from sklearn import tree"
      ],
      "execution_count": 71,
      "outputs": []
    },
    {
      "cell_type": "markdown",
      "metadata": {
        "id": "FlqzW9Yh9Ix3"
      },
      "source": [
        "これで`Scikit-learn`に入っている`tree`をインポートできました。\n",
        "\n",
        "あとは決定木モデルを作成するだけですが、まずはモデル作成の準備として「このモデルを使いますよ〜！」という合図をコードで書いてあげます。\n",
        "\n",
        "それには、以下の一行を書くだけOKです。"
      ]
    },
    {
      "cell_type": "code",
      "metadata": {
        "id": "nq7UNm2v9Ix3"
      },
      "source": [
        "# 決定木モデルの準備\n",
        "model = tree.DecisionTreeClassifier()"
      ],
      "execution_count": 72,
      "outputs": []
    },
    {
      "cell_type": "markdown",
      "metadata": {
        "id": "rutpMaAe9Ix3"
      },
      "source": [
        "`tree.DecisionTreeClassifier()`で「決定木の分類木を使う」という意味です。\n",
        "\n",
        "- Decision : 決定\n",
        "- Tree : 木\n",
        "- Classifier : 分類\n",
        "\n",
        "上記のように分割すると分かりやすいですね。\n",
        "\n",
        "<br>\n",
        "\n",
        "「*`Classifier(=分類)`ってなんぞや...*」と思われるかもしれないですね。そもそも機械学習には以下のように「分類」と「回帰」という考え方があります。\n",
        "\n",
        "- 分類 : ラベルを予測すること\n",
        "    - 例：今回のように生存するか否かを当てる\n",
        "- 回帰 : 数値を予測すること\n",
        "    - 例 : 明日の株価(=数値)を当てる\n",
        "\n",
        "<br>\n",
        "\n",
        "なので今回は`tree.DecisionTreeClassifier()`を使っているというわけです。\n",
        "\n",
        "決定木は回帰にも使えるので、その場合には`DecisionTreeRegressor()`を使います。`Regressor`が回帰という意味ですね。"
      ]
    },
    {
      "cell_type": "markdown",
      "metadata": {
        "id": "dFU7e0Dm9Ix3"
      },
      "source": [
        "## モデルの作成\n",
        "\n",
        "準備した決定木を使って機械学習を開始するには、以下のように`model.fit()`と書いてあげます。"
      ]
    },
    {
      "cell_type": "code",
      "metadata": {
        "id": "SGhoreTM9Ix3",
        "colab": {
          "base_uri": "https://localhost:8080/"
        },
        "outputId": "805d8129-4aaf-4581-b97d-f87676213747"
      },
      "source": [
        "# 決定木モデルの作成\n",
        "model.fit(X_train, y_train)"
      ],
      "execution_count": 74,
      "outputs": [
        {
          "output_type": "execute_result",
          "data": {
            "text/plain": [
              "DecisionTreeClassifier(ccp_alpha=0.0, class_weight=None, criterion='gini',\n",
              "                       max_depth=None, max_features=None, max_leaf_nodes=None,\n",
              "                       min_impurity_decrease=0.0, min_impurity_split=None,\n",
              "                       min_samples_leaf=1, min_samples_split=2,\n",
              "                       min_weight_fraction_leaf=0.0, presort='deprecated',\n",
              "                       random_state=None, splitter='best')"
            ]
          },
          "metadata": {
            "tags": []
          },
          "execution_count": 74
        }
      ]
    },
    {
      "cell_type": "markdown",
      "metadata": {
        "id": "If8X6wdQ9Ix3"
      },
      "source": [
        "この一行を書くだけで決定木を使った機械学習モデルの作成が完了しました。\n",
        "\n",
        "あっという間ですね。「機械学習って、もっと時間がかかるんじゃ...」というイメージを持っていると、わりとビックリするかと思います（笑）\n",
        "\n",
        "今回使っているタイタニックくらいのデータ量であれば、そこまで時間はかからないんですね！\n",
        "\n",
        "<br>\n",
        "\n",
        "また、コードを実行すると色々と出てきます。これは決定木を作ったときのオプションです。\n",
        "\n",
        "<br>\n",
        "\n",
        "決定木のオプションは自分で選択可能で、それには、`tree.DecisionTreeClassifier()`のカッコ内で`tree.DecisionTreeClassifier(max_depth=3)`のように引数で渡してあげます。\n",
        "\n",
        "<br>\n",
        "\n",
        "今回はデータサイエンスの流れをおさえたいので、パラメータの設定はしないでモデル作成しました。\n",
        "\n",
        "本来は、これらのパラメータも色々と設定していくことになります。"
      ]
    },
    {
      "cell_type": "markdown",
      "metadata": {
        "id": "zsPDyEoj9Ix4"
      },
      "source": [
        "## 作成したモデルを使って予測する\n",
        "\n",
        "学習データを使った機械学習モデルの作成が完了したので、今度はテストデータを使って予測していきましょう。\n",
        "\n",
        "作成した機械学習モデルを使った予測もカンタンで、以下の一行を書いてあげるだけです。"
      ]
    },
    {
      "cell_type": "code",
      "metadata": {
        "id": "tnfQgyn89Ix4"
      },
      "source": [
        "# 作成した決定木モデルを使った予測をおこなう\n",
        "y_pred = model.predict(test)"
      ],
      "execution_count": 75,
      "outputs": []
    },
    {
      "cell_type": "markdown",
      "metadata": {
        "id": "dpJaV2U69Ix4"
      },
      "source": [
        "これでテストデータを使った予測が完了しました。中身を確認してみたいと思います。"
      ]
    },
    {
      "cell_type": "code",
      "metadata": {
        "id": "LxowZt6o9Ix4",
        "colab": {
          "base_uri": "https://localhost:8080/"
        },
        "outputId": "d340f388-eb75-4eb9-acdc-071b101cecb7"
      },
      "source": [
        "# 予測結果の確認をする\n",
        "y_pred"
      ],
      "execution_count": 76,
      "outputs": [
        {
          "output_type": "execute_result",
          "data": {
            "text/plain": [
              "array([0., 0., 0., 1., 0., 0., 0., 0., 0., 0., 0., 0., 1., 0., 1., 1., 0.,\n",
              "       1., 0., 0., 0., 1., 1., 1., 1., 0., 1., 1., 0., 0., 0., 0., 1., 0.,\n",
              "       0., 1., 0., 0., 0., 0., 0., 1., 0., 1., 1., 0., 0., 1., 1., 1., 1.,\n",
              "       0., 1., 1., 0., 0., 0., 0., 0., 1., 0., 1., 0., 1., 1., 1., 0., 0.,\n",
              "       0., 1., 1., 0., 0., 1., 1., 0., 0., 1., 0., 1., 1., 0., 0., 0., 1.,\n",
              "       0., 1., 0., 1., 1., 0., 0., 1., 0., 1., 0., 1., 0., 0., 0., 1., 0.,\n",
              "       1., 0., 1., 0., 0., 1., 0., 0., 0., 1., 1., 0., 1., 1., 0., 0., 0.,\n",
              "       1., 1., 1., 1., 0., 1., 0., 0., 1., 0., 0., 1., 0., 0., 0., 0., 0.,\n",
              "       0., 0., 0., 0., 0., 1., 0., 0., 0., 1., 1., 0., 1., 0., 1., 0., 0.,\n",
              "       1., 1., 0., 1., 0., 0., 0., 1., 0., 1., 0., 0., 0., 0., 0., 1., 0.,\n",
              "       0., 0., 0., 0., 0., 1., 1., 0., 1., 1., 0., 0., 1., 1., 1., 0., 1.,\n",
              "       0., 0., 0., 0., 1., 0., 0., 1., 0., 1., 0., 0., 0., 1., 1., 0., 1.,\n",
              "       0., 1., 0., 0., 1., 0., 1., 0., 0., 0., 1., 0., 1., 0., 1., 0., 1.,\n",
              "       0., 1., 0., 1., 1., 0., 1., 0., 0., 0., 1., 0., 1., 0., 0., 0., 1.,\n",
              "       1., 1., 1., 1., 0., 0., 0., 0., 1., 0., 1., 1., 1., 0., 1., 0., 0.,\n",
              "       0., 1., 0., 1., 0., 0., 0., 1., 0., 0., 0., 1., 0., 0., 0., 0., 1.,\n",
              "       1., 1., 0., 1., 0., 0., 0., 0., 0., 1., 1., 1., 0., 0., 0., 1., 0.,\n",
              "       0., 1., 0., 0., 0., 0., 0., 1., 0., 0., 0., 1., 0., 0., 0., 1., 1.,\n",
              "       0., 1., 0., 0., 0., 1., 0., 0., 1., 0., 0., 0., 1., 0., 0., 0., 0.,\n",
              "       0., 1., 0., 1., 0., 0., 0., 1., 0., 0., 0., 1., 0., 1., 0., 0., 0.,\n",
              "       0., 1., 0., 1., 0., 0., 0., 0., 0., 1., 1., 0., 0., 0., 0., 0., 1.,\n",
              "       0., 1., 0., 0., 1., 1., 1., 0., 0., 0., 0., 1., 0., 0., 1., 0., 0.,\n",
              "       1., 1., 0., 0., 0., 1., 1., 0., 0., 0., 0., 1., 0., 0., 0., 1., 1.,\n",
              "       1., 1., 0., 0., 1., 0., 1., 0., 0., 1., 0., 1., 1., 0., 1., 0., 0.,\n",
              "       1., 0., 1., 1., 0., 0., 1., 0., 0., 0.])"
            ]
          },
          "metadata": {
            "tags": []
          },
          "execution_count": 76
        }
      ]
    },
    {
      "cell_type": "markdown",
      "metadata": {
        "id": "zYmOFpgt9Ix4"
      },
      "source": [
        "予測結果を見てみると、数字の0と1が大量に出てきました。\n",
        "\n",
        "この数字は何かというと、今回予測していた「乗客が生存するか否か」です。\n",
        "\n",
        "乗客が生存する場合には1, そうでない場合には0ということになります。\n",
        "\n",
        "\n",
        "少しイメージが付きづらいかもしれないので、元のテストデータに連結してあげましょう。\n",
        "\n",
        "まずは、乗客の数だけ予測結果が存在するか確認してみたいと思います。"
      ]
    },
    {
      "cell_type": "code",
      "metadata": {
        "id": "fRrt7X9W9Ix4",
        "colab": {
          "base_uri": "https://localhost:8080/"
        },
        "outputId": "284ba757-23a5-4fb7-eb7b-8d1f3f05695a"
      },
      "source": [
        "# テストデータと予測結果の大きさを確認する\n",
        "len(test), len(y_pred)"
      ],
      "execution_count": 77,
      "outputs": [
        {
          "output_type": "execute_result",
          "data": {
            "text/plain": [
              "(418, 418)"
            ]
          },
          "metadata": {
            "tags": []
          },
          "execution_count": 77
        }
      ]
    },
    {
      "cell_type": "markdown",
      "metadata": {
        "id": "H3iWaUw89Ix5"
      },
      "source": [
        "両方とも418件ということで、各乗客ごとに生存したか否かを予測できたということになります。\n",
        "\n",
        "<br>\n",
        "\n",
        "それでは、予測結果をテストデータに連結していきましょう。\n",
        "\n",
        "予測結果の連結には、テストデータに新しいカラムを追加してあげれば良いですね。"
      ]
    },
    {
      "cell_type": "code",
      "metadata": {
        "id": "ExA45F599Ix5"
      },
      "source": [
        "# 予測結果をテストデータに反映する\n",
        "test['Survived'] = y_pred"
      ],
      "execution_count": 78,
      "outputs": []
    },
    {
      "cell_type": "markdown",
      "metadata": {
        "id": "W5CX0ljl9Ix5"
      },
      "source": [
        "これで予測結果の連結が完了しました。中身を確認してみましょう。"
      ]
    },
    {
      "cell_type": "code",
      "metadata": {
        "id": "Xs_v-MZO9Ix5",
        "colab": {
          "base_uri": "https://localhost:8080/",
          "height": 0
        },
        "outputId": "d0cea5e4-9748-4770-f97b-86f8b265d110"
      },
      "source": [
        "# テストデータの先頭5行を確認する\n",
        "test.head()"
      ],
      "execution_count": 79,
      "outputs": [
        {
          "output_type": "execute_result",
          "data": {
            "text/html": [
              "<div>\n",
              "<style scoped>\n",
              "    .dataframe tbody tr th:only-of-type {\n",
              "        vertical-align: middle;\n",
              "    }\n",
              "\n",
              "    .dataframe tbody tr th {\n",
              "        vertical-align: top;\n",
              "    }\n",
              "\n",
              "    .dataframe thead th {\n",
              "        text-align: right;\n",
              "    }\n",
              "</style>\n",
              "<table border=\"1\" class=\"dataframe\">\n",
              "  <thead>\n",
              "    <tr style=\"text-align: right;\">\n",
              "      <th></th>\n",
              "      <th>PassengerId</th>\n",
              "      <th>Pclass</th>\n",
              "      <th>Sex</th>\n",
              "      <th>Age</th>\n",
              "      <th>Embarked_C</th>\n",
              "      <th>Embarked_Q</th>\n",
              "      <th>Embarked_S</th>\n",
              "      <th>Survived</th>\n",
              "    </tr>\n",
              "  </thead>\n",
              "  <tbody>\n",
              "    <tr>\n",
              "      <th>891</th>\n",
              "      <td>892</td>\n",
              "      <td>3</td>\n",
              "      <td>1</td>\n",
              "      <td>34.5</td>\n",
              "      <td>0</td>\n",
              "      <td>1</td>\n",
              "      <td>0</td>\n",
              "      <td>0.0</td>\n",
              "    </tr>\n",
              "    <tr>\n",
              "      <th>892</th>\n",
              "      <td>893</td>\n",
              "      <td>3</td>\n",
              "      <td>0</td>\n",
              "      <td>47.0</td>\n",
              "      <td>0</td>\n",
              "      <td>0</td>\n",
              "      <td>1</td>\n",
              "      <td>0.0</td>\n",
              "    </tr>\n",
              "    <tr>\n",
              "      <th>893</th>\n",
              "      <td>894</td>\n",
              "      <td>2</td>\n",
              "      <td>1</td>\n",
              "      <td>62.0</td>\n",
              "      <td>0</td>\n",
              "      <td>1</td>\n",
              "      <td>0</td>\n",
              "      <td>0.0</td>\n",
              "    </tr>\n",
              "    <tr>\n",
              "      <th>894</th>\n",
              "      <td>895</td>\n",
              "      <td>3</td>\n",
              "      <td>1</td>\n",
              "      <td>27.0</td>\n",
              "      <td>0</td>\n",
              "      <td>0</td>\n",
              "      <td>1</td>\n",
              "      <td>1.0</td>\n",
              "    </tr>\n",
              "    <tr>\n",
              "      <th>895</th>\n",
              "      <td>896</td>\n",
              "      <td>3</td>\n",
              "      <td>0</td>\n",
              "      <td>22.0</td>\n",
              "      <td>0</td>\n",
              "      <td>0</td>\n",
              "      <td>1</td>\n",
              "      <td>0.0</td>\n",
              "    </tr>\n",
              "  </tbody>\n",
              "</table>\n",
              "</div>"
            ],
            "text/plain": [
              "     PassengerId  Pclass  Sex  ...  Embarked_Q  Embarked_S  Survived\n",
              "891          892       3    1  ...           1           0       0.0\n",
              "892          893       3    0  ...           0           1       0.0\n",
              "893          894       2    1  ...           1           0       0.0\n",
              "894          895       3    1  ...           0           1       1.0\n",
              "895          896       3    0  ...           0           1       0.0\n",
              "\n",
              "[5 rows x 8 columns]"
            ]
          },
          "metadata": {
            "tags": []
          },
          "execution_count": 79
        }
      ]
    },
    {
      "cell_type": "markdown",
      "metadata": {
        "id": "NDkcKF0U9Ix5"
      },
      "source": [
        "テストデータに予測結果を反映できていますね。\n",
        "\n",
        "予測結果の見方ですが、たとえば892番の人だったら「チケットのクラスが3、年齢が34.5歳、乗ってきた港がQで、決定木モデルは生存できなかったと予測した」ということになります。"
      ]
    },
    {
      "cell_type": "markdown",
      "metadata": {
        "id": "YTA_XTuH9Ix5"
      },
      "source": [
        "## 予測結果の精度を確認する\n",
        "\n",
        "あとは、決定木モデルの予測結果が本当に正しいのか見ていきましょう。\n",
        "\n",
        "今回使っているKaggleは、指定されているフォーマットでデータを提出すると、モデルの精度を判定できるようになっています。\n",
        "\n",
        "<br>\n",
        "\n",
        "先ほど作成したテストデータ+予測結果のデータから、提出用のシートを作成していきましょう。\n",
        "\n",
        "そのためには、以下のように書いてあげます。"
      ]
    },
    {
      "cell_type": "code",
      "metadata": {
        "id": "PO-_ckD29Ix5"
      },
      "source": [
        "# 提出用のデータマートを作成する\n",
        "pred_df = test[['PassengerId', 'Survived']].set_index('PassengerId')"
      ],
      "execution_count": 83,
      "outputs": []
    },
    {
      "cell_type": "markdown",
      "metadata": {
        "id": "3oojGJ9o9Ix6"
      },
      "source": [
        "これで提出用のデータ形式にできました。\n",
        "\n",
        "あとは予測結果`Survived`のカラムが小数表記になっているので、これは整数に変換しておきましょう。"
      ]
    },
    {
      "cell_type": "code",
      "metadata": {
        "id": "P7MxjXMy9Ix6",
        "colab": {
          "base_uri": "https://localhost:8080/",
          "height": 235
        },
        "outputId": "9548617b-1208-40de-fa3c-3c7f7600db1d"
      },
      "source": [
        "# 予測結果を整数に変換する\n",
        "pred_df.Survived = pred_df.Survived.astype(int)\n",
        "pred_df.head()"
      ],
      "execution_count": 84,
      "outputs": [
        {
          "output_type": "execute_result",
          "data": {
            "text/html": [
              "<div>\n",
              "<style scoped>\n",
              "    .dataframe tbody tr th:only-of-type {\n",
              "        vertical-align: middle;\n",
              "    }\n",
              "\n",
              "    .dataframe tbody tr th {\n",
              "        vertical-align: top;\n",
              "    }\n",
              "\n",
              "    .dataframe thead th {\n",
              "        text-align: right;\n",
              "    }\n",
              "</style>\n",
              "<table border=\"1\" class=\"dataframe\">\n",
              "  <thead>\n",
              "    <tr style=\"text-align: right;\">\n",
              "      <th></th>\n",
              "      <th>Survived</th>\n",
              "    </tr>\n",
              "    <tr>\n",
              "      <th>PassengerId</th>\n",
              "      <th></th>\n",
              "    </tr>\n",
              "  </thead>\n",
              "  <tbody>\n",
              "    <tr>\n",
              "      <th>892</th>\n",
              "      <td>0</td>\n",
              "    </tr>\n",
              "    <tr>\n",
              "      <th>893</th>\n",
              "      <td>0</td>\n",
              "    </tr>\n",
              "    <tr>\n",
              "      <th>894</th>\n",
              "      <td>0</td>\n",
              "    </tr>\n",
              "    <tr>\n",
              "      <th>895</th>\n",
              "      <td>1</td>\n",
              "    </tr>\n",
              "    <tr>\n",
              "      <th>896</th>\n",
              "      <td>0</td>\n",
              "    </tr>\n",
              "  </tbody>\n",
              "</table>\n",
              "</div>"
            ],
            "text/plain": [
              "             Survived\n",
              "PassengerId          \n",
              "892                 0\n",
              "893                 0\n",
              "894                 0\n",
              "895                 1\n",
              "896                 0"
            ]
          },
          "metadata": {
            "tags": []
          },
          "execution_count": 84
        }
      ]
    },
    {
      "cell_type": "markdown",
      "metadata": {
        "id": "bAcujl7z9Ix6"
      },
      "source": [
        "これで準備完了です。あとはKaggleにアップするため、CSVに出力してあげましょう。\n",
        "\n",
        "CSVを読み込むとき同様、出力するときも`Pandas`を使っていきます。"
      ]
    },
    {
      "cell_type": "code",
      "metadata": {
        "id": "-AArktDy9Ix6"
      },
      "source": [
        "# CSVの作成\n",
        "pred_df.to_csv('/content/drive/MyDrive/DataScience/titanic-machine-learning-from-disaster/data/output/submission_v1.csv', index_label=['PassengerId'])"
      ],
      "execution_count": 85,
      "outputs": []
    },
    {
      "cell_type": "markdown",
      "metadata": {
        "id": "gcNgKhnE9Ix7"
      },
      "source": [
        "# まとめ\n",
        "\n",
        "本当はもっとデータ分析に時間をかけますし、もっとモデルのチューニングをおこなっていきます。\n",
        "\n",
        "<br>\n",
        "\n",
        "さらに新しい特徴量を作成したり、より適切な欠損値の補完方法を考えたりします。\n",
        "\n",
        "例えば今回、年齢の欠損値補完で中央値を使いました。でも、もっと細かくみていくなら「乗客の名前を元に年齢を補完する」といった施策を考えられますよね。\n",
        "\n",
        "`Name`の中身を見ると、`Mrs.(=結婚している人の敬称)`と`Miss.(=結婚していない人の敬称)`が入っています。\n",
        "\n",
        "敬称に応じた平均年齢はおそらく違ってくるので、そうなると補完に使うべき数字が変わってきますよね。\n",
        "\n",
        "<br>\n",
        "\n",
        "このように、まだまだやるべきことは山積みです。\n",
        "\n",
        "<br>\n"
      ]
    }
  ]
}